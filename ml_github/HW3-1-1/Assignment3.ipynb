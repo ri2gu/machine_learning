{
 "cells": [
  {
   "cell_type": "markdown",
   "id": "0fd33643",
   "metadata": {},
   "source": [
    "### This assignment may be worked individually or in pairs. \n",
    "### Enter your name/names here:"
   ]
  },
  {
   "cell_type": "code",
   "execution_count": 336,
   "id": "2649232b",
   "metadata": {},
   "outputs": [],
   "source": [
    "# Name(s) here: Ritu Gupta "
   ]
  },
  {
   "cell_type": "code",
   "execution_count": 337,
   "id": "ab1fe226",
   "metadata": {},
   "outputs": [],
   "source": [
    "# headers\n",
    "import pandas as pd\n",
    "import matplotlib.pyplot as plt"
   ]
  },
  {
   "cell_type": "markdown",
   "id": "7a7c7806",
   "metadata": {},
   "source": [
    "# Assignment 2: Linear Regression and KNN Classifier"
   ]
  },
  {
   "cell_type": "markdown",
   "id": "5bccf477",
   "metadata": {},
   "source": [
    "## Part 1: Linear regression with scikit-learn\n",
    "\n",
    "In this part of the assignment, you will fit a linear regression model to an insurance dataset using the scikit-learn package. \n",
    "\n",
    "The insurance company would like to be able to estimate the annual medical expenditures they will need to pay for any customer, based on the customer's age, sex, BMI, # of children, whether they are a smoker, and their region of residence. \n",
    "\n",
    "Estimates from this model can be used to then determine how much to charge each customer for insurance (the more we think you'll cost us, the more we will charge you)."
   ]
  },
  {
   "cell_type": "markdown",
   "id": "8bb47879",
   "metadata": {},
   "source": [
    "**Data Prep**\n",
    "\n",
    "Q1. Read the dataset from 'medical-charges.txt' into a Pandas Dataframe. Display the head of the dataset. There should be 1338 rows and 7 columns. The target column (y) is the `charges` column."
   ]
  },
  {
   "cell_type": "code",
   "execution_count": 338,
   "id": "589c05de",
   "metadata": {
    "scrolled": true
   },
   "outputs": [
    {
     "data": {
      "text/html": [
       "<div>\n",
       "<style scoped>\n",
       "    .dataframe tbody tr th:only-of-type {\n",
       "        vertical-align: middle;\n",
       "    }\n",
       "\n",
       "    .dataframe tbody tr th {\n",
       "        vertical-align: top;\n",
       "    }\n",
       "\n",
       "    .dataframe thead th {\n",
       "        text-align: right;\n",
       "    }\n",
       "</style>\n",
       "<table border=\"1\" class=\"dataframe\">\n",
       "  <thead>\n",
       "    <tr style=\"text-align: right;\">\n",
       "      <th></th>\n",
       "      <th>age</th>\n",
       "      <th>sex</th>\n",
       "      <th>bmi</th>\n",
       "      <th>children</th>\n",
       "      <th>smoker</th>\n",
       "      <th>region</th>\n",
       "      <th>charges</th>\n",
       "    </tr>\n",
       "  </thead>\n",
       "  <tbody>\n",
       "    <tr>\n",
       "      <th>0</th>\n",
       "      <td>19</td>\n",
       "      <td>female</td>\n",
       "      <td>27.900</td>\n",
       "      <td>0</td>\n",
       "      <td>yes</td>\n",
       "      <td>southwest</td>\n",
       "      <td>16884.92400</td>\n",
       "    </tr>\n",
       "    <tr>\n",
       "      <th>1</th>\n",
       "      <td>18</td>\n",
       "      <td>male</td>\n",
       "      <td>33.770</td>\n",
       "      <td>1</td>\n",
       "      <td>no</td>\n",
       "      <td>southeast</td>\n",
       "      <td>1725.55230</td>\n",
       "    </tr>\n",
       "    <tr>\n",
       "      <th>2</th>\n",
       "      <td>28</td>\n",
       "      <td>male</td>\n",
       "      <td>33.000</td>\n",
       "      <td>3</td>\n",
       "      <td>no</td>\n",
       "      <td>southeast</td>\n",
       "      <td>4449.46200</td>\n",
       "    </tr>\n",
       "    <tr>\n",
       "      <th>3</th>\n",
       "      <td>33</td>\n",
       "      <td>male</td>\n",
       "      <td>22.705</td>\n",
       "      <td>0</td>\n",
       "      <td>no</td>\n",
       "      <td>northwest</td>\n",
       "      <td>21984.47061</td>\n",
       "    </tr>\n",
       "    <tr>\n",
       "      <th>4</th>\n",
       "      <td>32</td>\n",
       "      <td>male</td>\n",
       "      <td>28.880</td>\n",
       "      <td>0</td>\n",
       "      <td>no</td>\n",
       "      <td>northwest</td>\n",
       "      <td>3866.85520</td>\n",
       "    </tr>\n",
       "  </tbody>\n",
       "</table>\n",
       "</div>"
      ],
      "text/plain": [
       "   age     sex     bmi  children smoker     region      charges\n",
       "0   19  female  27.900         0    yes  southwest  16884.92400\n",
       "1   18    male  33.770         1     no  southeast   1725.55230\n",
       "2   28    male  33.000         3     no  southeast   4449.46200\n",
       "3   33    male  22.705         0     no  northwest  21984.47061\n",
       "4   32    male  28.880         0     no  northwest   3866.85520"
      ]
     },
     "execution_count": 338,
     "metadata": {},
     "output_type": "execute_result"
    }
   ],
   "source": [
    "# your code goes here\n",
    "df = pd.read_csv(\"medical-charges.txt\")\n",
    "df = pd.DataFrame(df)\n",
    "df.head()"
   ]
  },
  {
   "cell_type": "markdown",
   "id": "3043bb91",
   "metadata": {},
   "source": [
    "Q2. Notice that there are several categorical columns. You'll need to transform these to be able to do regression. Since `sex` and `smoker` are binary in this dataset, let's do them differently than `region` which has 4 options.\n",
    "\n",
    "* Use the Pandas [get_dummies()](https://pandas.pydata.org/docs/reference/api/pandas.get_dummies.html) function to one-hot-encode `sex` and `smoker`. \n",
    "* Since these features are binary, we do not need to create two columns for each of them (i.e. we do not need both smoker_yes and smoker_no - just having a smoker_yes column will be sufficient), so use the `drop_first` parameter of get_dummies to create only a `smoker_yes` and a `sex_male` column. \n",
    "* Display the head of the dataframe."
   ]
  },
  {
   "cell_type": "code",
   "execution_count": 339,
   "id": "0484464d",
   "metadata": {
    "scrolled": false
   },
   "outputs": [
    {
     "data": {
      "text/html": [
       "<div>\n",
       "<style scoped>\n",
       "    .dataframe tbody tr th:only-of-type {\n",
       "        vertical-align: middle;\n",
       "    }\n",
       "\n",
       "    .dataframe tbody tr th {\n",
       "        vertical-align: top;\n",
       "    }\n",
       "\n",
       "    .dataframe thead th {\n",
       "        text-align: right;\n",
       "    }\n",
       "</style>\n",
       "<table border=\"1\" class=\"dataframe\">\n",
       "  <thead>\n",
       "    <tr style=\"text-align: right;\">\n",
       "      <th></th>\n",
       "      <th>age</th>\n",
       "      <th>bmi</th>\n",
       "      <th>children</th>\n",
       "      <th>region</th>\n",
       "      <th>charges</th>\n",
       "      <th>sex_male</th>\n",
       "      <th>smoker_yes</th>\n",
       "    </tr>\n",
       "  </thead>\n",
       "  <tbody>\n",
       "    <tr>\n",
       "      <th>0</th>\n",
       "      <td>19</td>\n",
       "      <td>27.900</td>\n",
       "      <td>0</td>\n",
       "      <td>southwest</td>\n",
       "      <td>16884.92400</td>\n",
       "      <td>False</td>\n",
       "      <td>True</td>\n",
       "    </tr>\n",
       "    <tr>\n",
       "      <th>1</th>\n",
       "      <td>18</td>\n",
       "      <td>33.770</td>\n",
       "      <td>1</td>\n",
       "      <td>southeast</td>\n",
       "      <td>1725.55230</td>\n",
       "      <td>True</td>\n",
       "      <td>False</td>\n",
       "    </tr>\n",
       "    <tr>\n",
       "      <th>2</th>\n",
       "      <td>28</td>\n",
       "      <td>33.000</td>\n",
       "      <td>3</td>\n",
       "      <td>southeast</td>\n",
       "      <td>4449.46200</td>\n",
       "      <td>True</td>\n",
       "      <td>False</td>\n",
       "    </tr>\n",
       "    <tr>\n",
       "      <th>3</th>\n",
       "      <td>33</td>\n",
       "      <td>22.705</td>\n",
       "      <td>0</td>\n",
       "      <td>northwest</td>\n",
       "      <td>21984.47061</td>\n",
       "      <td>True</td>\n",
       "      <td>False</td>\n",
       "    </tr>\n",
       "    <tr>\n",
       "      <th>4</th>\n",
       "      <td>32</td>\n",
       "      <td>28.880</td>\n",
       "      <td>0</td>\n",
       "      <td>northwest</td>\n",
       "      <td>3866.85520</td>\n",
       "      <td>True</td>\n",
       "      <td>False</td>\n",
       "    </tr>\n",
       "  </tbody>\n",
       "</table>\n",
       "</div>"
      ],
      "text/plain": [
       "   age     bmi  children     region      charges  sex_male  smoker_yes\n",
       "0   19  27.900         0  southwest  16884.92400     False        True\n",
       "1   18  33.770         1  southeast   1725.55230      True       False\n",
       "2   28  33.000         3  southeast   4449.46200      True       False\n",
       "3   33  22.705         0  northwest  21984.47061      True       False\n",
       "4   32  28.880         0  northwest   3866.85520      True       False"
      ]
     },
     "execution_count": 339,
     "metadata": {},
     "output_type": "execute_result"
    }
   ],
   "source": [
    "# your code goes here\n",
    "# one-hot encoding the specified columns\n",
    "df = pd.get_dummies(df, columns=['sex','smoker'], drop_first=True)\n",
    "df.head()"
   ]
  },
  {
   "cell_type": "markdown",
   "id": "11737757",
   "metadata": {},
   "source": [
    "Q3. Now one-hot encode the `region` feature by again using `get_dummies()`, but this time, even though we could drop one column, let's go ahead and explicitly keep all 4 values as columns (i.e. drop_first should be set to False). Display the head of the resulting dataframe."
   ]
  },
  {
   "cell_type": "code",
   "execution_count": 340,
   "id": "e0b43b2c",
   "metadata": {
    "scrolled": true
   },
   "outputs": [
    {
     "data": {
      "text/html": [
       "<div>\n",
       "<style scoped>\n",
       "    .dataframe tbody tr th:only-of-type {\n",
       "        vertical-align: middle;\n",
       "    }\n",
       "\n",
       "    .dataframe tbody tr th {\n",
       "        vertical-align: top;\n",
       "    }\n",
       "\n",
       "    .dataframe thead th {\n",
       "        text-align: right;\n",
       "    }\n",
       "</style>\n",
       "<table border=\"1\" class=\"dataframe\">\n",
       "  <thead>\n",
       "    <tr style=\"text-align: right;\">\n",
       "      <th></th>\n",
       "      <th>age</th>\n",
       "      <th>bmi</th>\n",
       "      <th>children</th>\n",
       "      <th>charges</th>\n",
       "      <th>sex_male</th>\n",
       "      <th>smoker_yes</th>\n",
       "      <th>region_northeast</th>\n",
       "      <th>region_northwest</th>\n",
       "      <th>region_southeast</th>\n",
       "      <th>region_southwest</th>\n",
       "    </tr>\n",
       "  </thead>\n",
       "  <tbody>\n",
       "    <tr>\n",
       "      <th>0</th>\n",
       "      <td>19</td>\n",
       "      <td>27.900</td>\n",
       "      <td>0</td>\n",
       "      <td>16884.92400</td>\n",
       "      <td>False</td>\n",
       "      <td>True</td>\n",
       "      <td>False</td>\n",
       "      <td>False</td>\n",
       "      <td>False</td>\n",
       "      <td>True</td>\n",
       "    </tr>\n",
       "    <tr>\n",
       "      <th>1</th>\n",
       "      <td>18</td>\n",
       "      <td>33.770</td>\n",
       "      <td>1</td>\n",
       "      <td>1725.55230</td>\n",
       "      <td>True</td>\n",
       "      <td>False</td>\n",
       "      <td>False</td>\n",
       "      <td>False</td>\n",
       "      <td>True</td>\n",
       "      <td>False</td>\n",
       "    </tr>\n",
       "    <tr>\n",
       "      <th>2</th>\n",
       "      <td>28</td>\n",
       "      <td>33.000</td>\n",
       "      <td>3</td>\n",
       "      <td>4449.46200</td>\n",
       "      <td>True</td>\n",
       "      <td>False</td>\n",
       "      <td>False</td>\n",
       "      <td>False</td>\n",
       "      <td>True</td>\n",
       "      <td>False</td>\n",
       "    </tr>\n",
       "    <tr>\n",
       "      <th>3</th>\n",
       "      <td>33</td>\n",
       "      <td>22.705</td>\n",
       "      <td>0</td>\n",
       "      <td>21984.47061</td>\n",
       "      <td>True</td>\n",
       "      <td>False</td>\n",
       "      <td>False</td>\n",
       "      <td>True</td>\n",
       "      <td>False</td>\n",
       "      <td>False</td>\n",
       "    </tr>\n",
       "    <tr>\n",
       "      <th>4</th>\n",
       "      <td>32</td>\n",
       "      <td>28.880</td>\n",
       "      <td>0</td>\n",
       "      <td>3866.85520</td>\n",
       "      <td>True</td>\n",
       "      <td>False</td>\n",
       "      <td>False</td>\n",
       "      <td>True</td>\n",
       "      <td>False</td>\n",
       "      <td>False</td>\n",
       "    </tr>\n",
       "  </tbody>\n",
       "</table>\n",
       "</div>"
      ],
      "text/plain": [
       "   age     bmi  children      charges  sex_male  smoker_yes  region_northeast  \\\n",
       "0   19  27.900         0  16884.92400     False        True             False   \n",
       "1   18  33.770         1   1725.55230      True       False             False   \n",
       "2   28  33.000         3   4449.46200      True       False             False   \n",
       "3   33  22.705         0  21984.47061      True       False             False   \n",
       "4   32  28.880         0   3866.85520      True       False             False   \n",
       "\n",
       "   region_northwest  region_southeast  region_southwest  \n",
       "0             False             False              True  \n",
       "1             False              True             False  \n",
       "2             False              True             False  \n",
       "3              True             False             False  \n",
       "4              True             False             False  "
      ]
     },
     "execution_count": 340,
     "metadata": {},
     "output_type": "execute_result"
    }
   ],
   "source": [
    "# your code goes here\n",
    "df = pd.get_dummies(df, columns=['region'], drop_first=False)\n",
    "df.head()"
   ]
  },
  {
   "cell_type": "markdown",
   "id": "38a13dc1",
   "metadata": {},
   "source": [
    "Q4. An interesting thing to check with regression problems is whether any of the individual features correlate very strongly with the label. Use the `corr()` method on the dataframe to take a look at this.\n",
    "\n",
    "Answer as a comment: Do you see any features with a strong correlation to the label?"
   ]
  },
  {
   "cell_type": "code",
   "execution_count": 341,
   "id": "6ad660fd",
   "metadata": {
    "scrolled": true
   },
   "outputs": [
    {
     "data": {
      "text/plain": [
       "\" \\nUsing the target column 'charges,' it can be noted that smoker_yes has a strong correlation to the label\\nwith a correlation of 0.787251. \\n\""
      ]
     },
     "execution_count": 341,
     "metadata": {},
     "output_type": "execute_result"
    }
   ],
   "source": [
    "# your code goes here\n",
    "df.corr()\n",
    "\n",
    "\"\"\" \n",
    "Using the target column 'charges,' it can be noted that smoker_yes has a strong correlation to the label\n",
    "with a correlation of 0.787251. \n",
    "\"\"\""
   ]
  },
  {
   "cell_type": "markdown",
   "id": "4b86aa6a",
   "metadata": {},
   "source": [
    "Q5. Create a plot to show the difference in charges between the smokers and the non-smokers. "
   ]
  },
  {
   "cell_type": "code",
   "execution_count": 342,
   "id": "2f3a1ce1",
   "metadata": {},
   "outputs": [
    {
     "data": {
      "image/png": "[encoded data removed]",
      "text/plain": [
       "<Figure size 1000x600 with 1 Axes>"
      ]
     },
     "metadata": {},
     "output_type": "display_data"
    }
   ],
   "source": [
    "# your code goes here\n",
    "plt.figure(figsize=(10, 6))\n",
    "sns.boxplot(x='smoker_yes', y='charges', data=df)\n",
    "plt.title('Difference in charges for Smokers and Non-Smokers')\n",
    "plt.xlabel('Smoker')\n",
    "plt.ylabel('Charges')\n",
    "plt.show()"
   ]
  },
  {
   "cell_type": "markdown",
   "id": "5ece359c",
   "metadata": {},
   "source": [
    "Q6. Let's explore the relationship between `age` and `charges`. Create a scatter plot of all data points to show age vs charges. \n",
    "\n",
    "Answer as a comment: What do you notice about the nature of this relationship?"
   ]
  },
  {
   "cell_type": "code",
   "execution_count": 343,
   "id": "78a4ddce",
   "metadata": {},
   "outputs": [
    {
     "data": {
      "image/png": "[encoded data removed]",
      "text/plain": [
       "<Figure size 800x600 with 1 Axes>"
      ]
     },
     "metadata": {},
     "output_type": "display_data"
    },
    {
     "data": {
      "text/plain": [
       "'\\n\\nWhat I notice about the nature of this relationship is that as age increases, so do the charges \\n\\n'"
      ]
     },
     "execution_count": 343,
     "metadata": {},
     "output_type": "execute_result"
    }
   ],
   "source": [
    "# your code goes here\n",
    "plt.figure(figsize=(8, 6))\n",
    "plt.scatter(df['age'], df['charges'], color='orange', alpha=0.5)\n",
    "plt.title('Age vs Charges')\n",
    "plt.xlabel('Age')\n",
    "plt.ylabel('Charges')\n",
    "plt.grid(True)\n",
    "plt.show()\n",
    "\n",
    "\"\"\"\n",
    "\n",
    "What I notice about the nature of this relationship is that as age increases, so do the charges \n",
    "\n",
    "\"\"\""
   ]
  },
  {
   "cell_type": "markdown",
   "id": "ce9b1624",
   "metadata": {},
   "source": [
    "#### Simple Linear Regression\n",
    "**Fit a simple linear regression model to predict `charges` from `age`.**\n",
    "\n",
    "Q7. \n",
    "* Grab the `age` column from the dataframe and call it something like `x`.\n",
    "* Grab the `charges` column from the dataframe and call it something like `y`.\n",
    "* When doing simple linear regression (one feature), you need to convert the features from a Series to a list of lists. You can do this by doing `x = x.values.reshape(-1,1)`, where the (-1,1) means (all rows, one column). \n",
    "* Do the same to the labels (`y = y.values.reshape(-1,1)`). \n",
    "* Verify that you have a list of lists for both x and y."
   ]
  },
  {
   "cell_type": "code",
   "execution_count": 344,
   "id": "a012a960",
   "metadata": {
    "scrolled": true
   },
   "outputs": [
    {
     "name": "stdout",
     "output_type": "stream",
     "text": [
      "Type of x: <class 'numpy.ndarray'>\n",
      "Type of y: <class 'numpy.ndarray'>\n"
     ]
    }
   ],
   "source": [
    "# your code goes here\n",
    "x = df['age']\n",
    "y = df['charges']\n",
    "\n",
    "#converting the features from a series to a list of lists \n",
    "x = x.values.reshape(-1, 1)\n",
    "y = y.values.reshape(-1, 1)\n",
    "\n",
    "#verifying that they're a list of lists for both x and y \n",
    "print(\"Type of x:\", type(x))\n",
    "print(\"Type of y:\", type(y))"
   ]
  },
  {
   "cell_type": "markdown",
   "id": "08424490",
   "metadata": {},
   "source": [
    "**Using the holdout method**\n",
    "\n",
    "Q8. Use [sklearn.model_selection.train_test_split](https://scikit-learn.org/stable/modules/generated/sklearn.model_selection.train_test_split.html) to split your dataset into training and test sets. Do an 80%-20% split. Display how many records are in the training set and how many are in the test set. Set the random_state argument to your favorite number."
   ]
  },
  {
   "cell_type": "code",
   "execution_count": 345,
   "id": "e9c24d71",
   "metadata": {
    "scrolled": true
   },
   "outputs": [
    {
     "name": "stdout",
     "output_type": "stream",
     "text": [
      "# records in training set: 1070\n",
      "# records in test set: 268\n",
      " \n",
      "With the random state variable being changed:\n",
      "# records in training set: 1070\n",
      "# records in test set: 268\n"
     ]
    }
   ],
   "source": [
    "from sklearn.model_selection import train_test_split\n",
    "\n",
    "# your code goes here\n",
    "x_train, x_test, y_train, y_test = train_test_split(x, y, test_size=0.2, random_state= 818)\n",
    "\n",
    "#num records in the training and test set\n",
    "print(\"# records in training set:\", len(x_train))\n",
    "print(\"# records in test set:\", len(x_test))\n",
    "\n",
    "print(\" \")\n",
    "print(\"With the random state variable being changed:\")\n",
    "x_train2, x_test2, y_train2, y_test2 = train_test_split(x, y, test_size=0.2, random_state= 18)\n",
    "\n",
    "#num records in the training and test set\n",
    "print(\"# records in training set:\", len(x_train2))\n",
    "print(\"# records in test set:\", len(x_test2))"
   ]
  },
  {
   "cell_type": "markdown",
   "id": "cffda89c",
   "metadata": {},
   "source": [
    "Q9. Fit a simple linear regression model to the x and y data. This computes the B0 and B1 coefficients.\n",
    "* Create a [sklearn.linear_model.LinearRegression](https://scikit-learn.org/stable/modules/generated/sklearn.linear_model.LinearRegression.html) object. \n",
    "* Call `fit` on it and pass in the training set.\n",
    "* Print the slope and the intercept of the equation with the `.coef_` and `.intercept_` attributes. "
   ]
  },
  {
   "cell_type": "code",
   "execution_count": 346,
   "id": "caa8b841",
   "metadata": {},
   "outputs": [
    {
     "name": "stdout",
     "output_type": "stream",
     "text": [
      "Slope: [[270.80155307]]\n",
      "Intercept: [2993.12697655]\n",
      " \n",
      "With the random state variable being changed:\n",
      "Slope: [[245.0088325]]\n",
      "Intercept: [3541.33099148]\n"
     ]
    }
   ],
   "source": [
    "from sklearn.linear_model import LinearRegression\n",
    "\n",
    "# your code goes here\n",
    "model = LinearRegression()\n",
    "\n",
    "#fitting the model to the training data\n",
    "reg_model = model.fit(x_train, y_train)\n",
    "\n",
    "# slope (coefficient) & intercept of lin regression equation\n",
    "print(\"Slope:\", reg_model.coef_)\n",
    "print(\"Intercept:\", reg_model.intercept_)\n",
    "\n",
    "\n",
    "print(\" \")\n",
    "print(\"With the random state variable being changed:\")\n",
    "#fitting the model to the training data\n",
    "reg_model2 = model.fit(x_train2, y_train2)\n",
    "\n",
    "# slope (coefficient) & intercept of lin regression equation\n",
    "print(\"Slope:\", reg_model2.coef_)\n",
    "print(\"Intercept:\", reg_model2.intercept_)\n"
   ]
  },
  {
   "cell_type": "markdown",
   "id": "c0695225",
   "metadata": {},
   "source": [
    "Q10. Now that you've fit the model on the training set, you can evaluate it on the test set. Call `predict` on the linear regression object and pass in the test set. Save the return value - these are all of the predicted values under the model for the test set. \n",
    "\n",
    "Compute some metrics to see how well this model fits the test data. Use `sklearn.metrics` to print out the MAE, MSE, RMSE, and R2 for the test set under this model. Remember that you have the actual y values for your test set, up in Q8.  "
   ]
  },
  {
   "cell_type": "code",
   "execution_count": 347,
   "id": "fe8b56fd",
   "metadata": {},
   "outputs": [
    {
     "name": "stdout",
     "output_type": "stream",
     "text": [
      "Mean Absolute Error (MAE): 8125.311158719801\n",
      "Mean Squared Error (MSE): 106523843.68475191\n",
      "Root Mean Squared Error (RMSE): 10321.038885923836\n",
      "R-squared (R2): 0.04250303603468808\n",
      " \n",
      "With the random state variable being changed:\n",
      "Mean Absolute Error (MAE): 9256.066419478582\n",
      "Mean Squared Error (MSE): 140281856.6812587\n",
      "Root Mean Squared Error (RMSE): 11844.064196096655\n",
      "R-squared (R2): 0.10959394786346732\n"
     ]
    }
   ],
   "source": [
    "import sklearn.metrics as metrics\n",
    "import numpy as np\n",
    "\n",
    "# your code goes here\n",
    "y_pred = reg_model.predict(x_test)\n",
    "\n",
    "mae = metrics.mean_absolute_error(y_test, y_pred)\n",
    "mse = metrics.mean_squared_error(y_test, y_pred)\n",
    "rmse = np.sqrt(mse)\n",
    "r2 = metrics.r2_score(y_test, y_pred)\n",
    "\n",
    "#metrics\n",
    "print(\"Mean Absolute Error (MAE):\", mae)\n",
    "print(\"Mean Squared Error (MSE):\", mse)\n",
    "print(\"Root Mean Squared Error (RMSE):\", rmse)\n",
    "print(\"R-squared (R2):\", r2)\n",
    "\n",
    "\n",
    "print(\" \")\n",
    "print(\"With the random state variable being changed:\")\n",
    "# your code goes here\n",
    "y_pred2 = reg_model2.predict(x_test2)\n",
    "\n",
    "mae2 = metrics.mean_absolute_error(y_test2, y_pred2)\n",
    "mse2 = metrics.mean_squared_error(y_test2, y_pred2)\n",
    "rmse2 = np.sqrt(mse2)\n",
    "r22 = metrics.r2_score(y_test2, y_pred2)\n",
    "\n",
    "#metrics\n",
    "print(\"Mean Absolute Error (MAE):\", mae2)\n",
    "print(\"Mean Squared Error (MSE):\", mse2)\n",
    "print(\"Root Mean Squared Error (RMSE):\", rmse2)\n",
    "print(\"R-squared (R2):\", r22)"
   ]
  },
  {
   "cell_type": "markdown",
   "id": "cb8c799f",
   "metadata": {},
   "source": [
    "Q11. Let's see what the best fit line looks like with the test data. Scatter-plot the test data (x_test, y_test). Then line-plot the model predictions for the test data (x_test, y_test_preds). "
   ]
  },
  {
   "cell_type": "code",
   "execution_count": 348,
   "id": "2b64976f",
   "metadata": {},
   "outputs": [
    {
     "data": {
      "image/png": "[encoded data removed]",
      "text/plain": [
       "<Figure size 800x600 with 1 Axes>"
      ]
     },
     "metadata": {},
     "output_type": "display_data"
    },
    {
     "data": {
      "image/png": "[encoded data removed]",
      "text/plain": [
       "<Figure size 800x600 with 1 Axes>"
      ]
     },
     "metadata": {},
     "output_type": "display_data"
    }
   ],
   "source": [
    "# your code goes here\n",
    "plt.figure(figsize=(8, 6))\n",
    "plt.scatter(x_test, y_test, color='orange', label='Actual')\n",
    "plt.xlabel('Age')\n",
    "plt.ylabel('Charges')\n",
    "\n",
    "#line plot of the model's predictions for the data\n",
    "plt.plot(x_test, y_pred, color='red', label='Predicted')\n",
    "plt.title('Actual vs Predicted Charges (Test Data)')\n",
    "plt.legend()\n",
    "plt.show()\n",
    "\n",
    "\n",
    "\"\"\"\n",
    "With the random state variable being changed \n",
    "\"\"\"\n",
    "plt.figure(figsize=(8, 6))\n",
    "plt.scatter(x_test2, y_test2, color='purple', label='Actual')\n",
    "plt.xlabel('Age')\n",
    "plt.ylabel('Charges')\n",
    "\n",
    "#line plot of the model's predictions for the data\n",
    "plt.plot(x_test2, y_pred2, color='red', label='Predicted')\n",
    "plt.title('Actual vs Predicted Charges (Test Data, Random Set Changed)')\n",
    "plt.legend()\n",
    "plt.show()\n"
   ]
  },
  {
   "cell_type": "markdown",
   "id": "308eb6bf",
   "metadata": {},
   "source": [
    "Q12. Now, go back up to your Q8, change the random_state to a different number, and re-run Q9, Q10, Q11. \n",
    "\n",
    "Answer as a comment: What happened and why?"
   ]
  },
  {
   "cell_type": "code",
   "execution_count": 349,
   "id": "82a24492",
   "metadata": {},
   "outputs": [
    {
     "data": {
      "text/plain": [
       "\"\\nWhen the random_state number was changed from 818 to 18, some things that changed were the slope (decreased from \\n818 to 18) and intercept (increased from 818 to 18). Additionally, the MAE, MSE, RMSE and R2 all increased from 818\\nto 18. In the plot, there's not a huge noticeable difference with the predicted values, but it does appear that \\nless values fall below the prediction line when the random number was changed to 18, although it does seem that \\nthere are less values that are close to the prediction line. \\n\""
      ]
     },
     "execution_count": 349,
     "metadata": {},
     "output_type": "execute_result"
    }
   ],
   "source": [
    "# answer as a comment here\n",
    "\n",
    "\"\"\"\n",
    "When the random_state number was changed from 818 to 18, some things that changed were the slope (decreased from \n",
    "818 to 18) and intercept (increased from 818 to 18). Additionally, the MAE, MSE, RMSE and R2 all increased from 818\n",
    "to 18. In the plot, there's not a huge noticeable difference with the predicted values, but it does appear that \n",
    "less values fall below the prediction line when the random number was changed to 18, although it does seem that \n",
    "there are less values that are close to the prediction line. \n",
    "\"\"\""
   ]
  },
  {
   "cell_type": "markdown",
   "id": "99d04b36",
   "metadata": {},
   "source": [
    "**Using cross-validation**\n",
    "\n",
    "Q13. We've discussed and seen the issues that can happen when we do a single hold-out test set. Cross validation is a better, more robust way to evaluate our models. Use `sklearn.model_selection.cross_val_score` to perform 5-fold cross validation on a simple linear regression model. \n",
    "\n",
    "You will pass the FULL dataset (x and y from before the train/test split in Q8) into `cross_val_score` which will automatically divide it into the number of folds you tell it to, fit a linear regression model to the training set for each fold, and test it on the test set for each fold. It will return a numpy array with the R2 on the test set for each fold. Average these R2 scores to print out the generalization estimate of the model.\n",
    "\n",
    "On average, after 5 trials with 5 different test sets, this is how well we think a linear regression of using `age` to predict `charges` will work. "
   ]
  },
  {
   "cell_type": "code",
   "execution_count": 350,
   "id": "c5b417e6",
   "metadata": {},
   "outputs": [
    {
     "name": "stdout",
     "output_type": "stream",
     "text": [
      "R-squared scores: [0.10358243 0.11694993 0.07060307 0.10318829 0.04673836]\n",
      "Average R-squared score: 0.08821241573294043\n"
     ]
    }
   ],
   "source": [
    "from sklearn.model_selection import cross_val_score\n",
    "\n",
    "# your code goes here\n",
    "scores = cross_val_score(model, x, y, cv=5)\n",
    "print(\"R-squared scores:\", scores)\n",
    "avg_r2 = scores.mean()\n",
    "print(\"Average R-squared score:\", avg_r2)"
   ]
  },
  {
   "cell_type": "markdown",
   "id": "eed2a22c",
   "metadata": {},
   "source": [
    "#### Multiple Linear Regression\n",
    "**Fit a multiple linear regression model to predict `charges` from `age` and `smoker`.**"
   ]
  },
  {
   "cell_type": "markdown",
   "id": "2b3b2aa1",
   "metadata": {},
   "source": [
    "Q14. Now let's see if we can get a better model by including another feature.\n",
    "* From the one-hot-encoded dataframe (the result of Q3), grab both the `age` and `smoker_yes` columns. Call it something like x. \n",
    "* (No need to call a reshape this time, since it is multi-dimensional data now.)\n",
    "* You already have the y's.\n",
    "* Create a new `sklearn.linear_model.LinearRegression` object. (Or you can re-use the one you already have.)\n",
    "* Pass it all into a `sklearn.model_selection.cross_val_score` with a 5-fold CV.\n",
    "* Print out the average R2.\n",
    "\n",
    "Answer as a comment: What happens when you include `smoker_yes`?"
   ]
  },
  {
   "cell_type": "code",
   "execution_count": 351,
   "id": "6c1db535",
   "metadata": {},
   "outputs": [
    {
     "name": "stdout",
     "output_type": "stream",
     "text": [
      "Average R-squared score with age and smoker_yes: 0.7191692504028052\n"
     ]
    }
   ],
   "source": [
    "# your code goes here\n",
    "#age and smoker_yes columns\n",
    "x = df[['age', 'smoker_yes']]\n",
    "\n",
    "#five-fold cross-validation\n",
    "scores = cross_val_score(model, x, y, cv=5)\n",
    "avg_r2 = scores.mean()\n",
    "print(\"Average R-squared score with age and smoker_yes:\", avg_r2)\n",
    "\n",
    "\n",
    "\n",
    "#When smoker_yes is included, the average r2 score significantly increases.\n"
   ]
  },
  {
   "cell_type": "markdown",
   "id": "e7bdb411",
   "metadata": {},
   "source": [
    "Q15. Let's go one more step and see if including ALL of our features is even better at predicting the `charges` than using just `age` and `smoker`.\n",
    "\n",
    "* From the one-hot-encoded dataframe (the result of Q3), grab all the features, but NOT the target. Call it something like x.\n",
    "* (No need to call a reshape this time, since it is multi-dimensional data now.)\n",
    "* You already have the y's.\n",
    "* Create a new sklearn.linear_model.LinearRegression object. (Or you can re-use the one you already have.)\n",
    "* Pass it all into a sklearn.model_selection.cross_val_score with a 5-fold CV.\n",
    "* Print out the average R2 and the adjusted R2.\n",
    "\n",
    "Answer as a comment: What happens when you use ALL of the features?"
   ]
  },
  {
   "cell_type": "code",
   "execution_count": 352,
   "id": "608779d0",
   "metadata": {},
   "outputs": [],
   "source": [
    "#calculating the adjusted r2 value\n",
    "def adjusted_r2(r2, n, p):\n",
    "    return (1 - (1 - r2) * ((n - 1) / (n - p - 1)))"
   ]
  },
  {
   "cell_type": "code",
   "execution_count": 353,
   "id": "4dbef0e5",
   "metadata": {
    "scrolled": true
   },
   "outputs": [
    {
     "name": "stdout",
     "output_type": "stream",
     "text": [
      "Average R-squared score: 0.7468616243473741\n",
      "Adjusted-R2: [0.75986533 0.70450427 0.77655934 0.7308832  0.75391826]\n"
     ]
    }
   ],
   "source": [
    "# your code goes here\n",
    "x_without = df.drop(columns = 'charges')\n",
    "\n",
    "#5-fold cross-validation\n",
    "scores_wo_tgt = cross_val_score(model, x_without, y, cv=5)\n",
    "avg_r2 = scores_wo_tgt.mean()\n",
    "print(\"Average R-squared score:\", avg_r2)\n",
    "print(\"Adjusted-R2:\", adjusted_r2(scores_wo_tgt, x_without.shape[0], x_without.shape[1]))\n",
    "\n",
    "#Answer: When all of the features are used, the average r2 value continues to increase."
   ]
  },
  {
   "cell_type": "markdown",
   "id": "f3c60daf",
   "metadata": {},
   "source": [
    "Q16. Build the final model on the entire dataset. \n",
    "* You should already have your x from the previous question (Q15).\n",
    "* You already have the y's.\n",
    "* Create a new `sklearn.linear_model.LinearRegression` object, or you can re-use the one you already have.\n",
    "* Call `fit` and pass in all the data (x, y).\n",
    "* Print out the coefficients and the intercept of the fitted model. The coefficients correspond to the the order in which the features are in the dataframe (x).\n",
    "\n",
    "This defines your multiple linear regression equation! "
   ]
  },
  {
   "cell_type": "code",
   "execution_count": 354,
   "id": "03cfb422",
   "metadata": {
    "scrolled": true
   },
   "outputs": [
    {
     "name": "stdout",
     "output_type": "stream",
     "text": [
      "Coefficients: [[  256.85635254   339.19345361   475.50054515  -131.3143594\n",
      "  23848.53454191   587.00923503   234.0453356   -448.01281436\n",
      "   -373.04175627]]\n",
      "Intercept: [-12525.5478112]\n"
     ]
    }
   ],
   "source": [
    "# your code goes here\n",
    "#fitting the model using all of the data\n",
    "final_model = model.fit(x_without, y)\n",
    "print(\"Coefficients:\", final_model.coef_)\n",
    "print(\"Intercept:\", final_model.intercept_)"
   ]
  },
  {
   "cell_type": "markdown",
   "id": "c08d42fc",
   "metadata": {},
   "source": [
    "## Part 2: K-Nearest Neighbors from scratch\n",
    "\n",
    "In this part of the assignment you'll implement the K-Nearest Neighbors (KNN) classification algorithm to classify patients as either having or not having diabetic retinopathy. For this task we'll be using the same Diabetic Retinopathy data set which was used in the previous assignment on decision trees. "
   ]
  },
  {
   "cell_type": "markdown",
   "id": "f04ffa20",
   "metadata": {},
   "source": [
    "You may use the following function to print a confusion matrix:"
   ]
  },
  {
   "cell_type": "code",
   "execution_count": 355,
   "id": "acc4cd14",
   "metadata": {},
   "outputs": [],
   "source": [
    "def print_confusion_matrix(TP, FN, FP, TN):\n",
    "    \n",
    "    table_data = [[TP,FN],[FP,TN]]\n",
    "    df = pd.DataFrame(table_data, columns =['Predicted 1','Predicted 0'])\n",
    "    df = df.rename(index={0: 'Actual 1', 1: 'Actual 0'})\n",
    "    display(df)"
   ]
  },
  {
   "cell_type": "code",
   "execution_count": 356,
   "id": "4eb2b554",
   "metadata": {},
   "outputs": [],
   "source": [
    "# you may use these constants if you want\n",
    "LABEL_COLUMN = 19\n",
    "BINARY_COLUMNS = {0,1,18}"
   ]
  },
  {
   "cell_type": "markdown",
   "id": "7edf52cf",
   "metadata": {},
   "source": [
    "Q1. Normalize the data so that each feature value lies between `[0-1]`.\n",
    "\n",
    "In class, we talked about why scaling the data is critical to KNN. We also talked about how data scaling should be done *inside the cross validataion loop*. This means that the scaling parameters should be based on the **training set only**, in order to prevent data leakage. Then the test data will need to be scaled, using the parameters found on the **training** data.\n",
    "\n",
    "Fill in the function to take in a training dataset and a test dataset and normalize them correctly. Return the normalized datasets.\n",
    "\n",
    "Caution: Return NEW datasets that have been normalized - do not normalize the datasets in-place, so that this can be run numerous times without altering the original data or normalizing already normalized data.\n",
    "\n",
    "Hint: When using dataframes, you can do this without a loop!"
   ]
  },
  {
   "cell_type": "code",
   "execution_count": 357,
   "id": "f2521ea4",
   "metadata": {},
   "outputs": [],
   "source": [
    "def normalize_data(train, test):\n",
    "    #min and max vals for each feature in the training set\n",
    "    min_vals = train.min()\n",
    "    max_vals = train.max()\n",
    "\n",
    "    train_norm = (train - min_vals) / (max_vals - min_vals)\n",
    "    test_norm = (test - min_vals) / (max_vals - min_vals)\n",
    "\n",
    "    return train_norm, test_norm"
   ]
  },
  {
   "cell_type": "markdown",
   "id": "acbcfd93",
   "metadata": {},
   "source": [
    "Q2. The distance calculation method is central to the KNN algorithm. In this assignment you'll be using the Euclidean distance. \n",
    "\n",
    "Implement a function that takes in one data point (as a list or a series), and the training data (as a dataframe), and calculates the Euclidian distance from the single data point to each of the data points in the training data.\n",
    "\n",
    "Add a column to the dataframe called `distance` that contains the Euclidian distance value from each row to the single data point, and return the dataframe with this new column filled in. \n",
    "\n",
    "\n",
    "Hint: For KNN, the distance calculations are the most time-consuming part of the algorithm. Even though computing Euclidian distance seems like a simple, and therefore quick, calculation, running it thousands of times, inside of a nested 5-fold cross-validation for example, can cause this algorithm to take a very long time to run, depending on your implementation. So you want to do this efficiently.\n",
    "\n",
    "Remember, you almost never need to loop a Dataframe! Pandas DataFrames have been specifically optimized for fast operations on large datasets, by [vectorizing](https://www.quantifisolutions.com/vectorization-part-2-why-and-what) calculations across all rows at once.\n",
    "\n",
    "If you use a DataFrame, you should not write a loop to calculate each of the Euclidian distances one at a time. Look at [this post](https://stackoverflow.com/questions/46908388/find-euclidean-distance-from-a-point-to-rows-in-pandas-dataframe?rq=1) for more info.\n",
    "\n",
    "Caution: Be careful not to use the label in your distance calculation."
   ]
  },
  {
   "cell_type": "code",
   "execution_count": 358,
   "id": "8568727f",
   "metadata": {},
   "outputs": [],
   "source": [
    "def get_distances(point, df):\n",
    "    df_features = df.iloc[:, :-1]  # Exclude label\n",
    "    point_features = point[:-1]   \n",
    "\n",
    "    differences = df_features.sub(point_features, axis=1)\n",
    "\n",
    "    #euclidean distances\n",
    "    distances = np.linalg.norm(differences, axis=1)\n",
    "\n",
    "    #add these as a new column to the df\n",
    "    df_with_distances = df.copy()\n",
    "    df_with_distances[\"distance\"] = distances\n",
    "\n",
    "    if df_with_distances.isna().values.any():\n",
    "        raise ValueError(\"NaN found when calculating distances\")\n",
    "\n",
    "    return df_with_distances"
   ]
  },
  {
   "cell_type": "markdown",
   "id": "3e91c9c3",
   "metadata": {},
   "source": [
    "Q3. Build your KNN classifier.\n",
    "\n",
    "This function takes in a training set (as a dataframe), a test set (as a dataframe), and a k to use, and classifies all data points in the test set, using the data in the training set and the given k.\n",
    "\n",
    "It should return the predicted labels for the test set as a list.\n",
    "\n",
    "Caution: Remember to normalize your data before doing distance calculations."
   ]
  },
  {
   "cell_type": "code",
   "execution_count": 359,
   "id": "6330af96",
   "metadata": {},
   "outputs": [],
   "source": [
    "def run_knn(train_set, test_set, k):\n",
    "    train_set, test_set = normalize_data(train_set, test_set)\n",
    "    \n",
    "    #array to store predictions\n",
    "    predictions = np.zeros(len(test_set))\n",
    "    \n",
    "    for i in range(len(test_set)):\n",
    "        test_point = test_set.iloc[i]\n",
    "        \n",
    "        #dist btwn the test pt & all pts in the training set\n",
    "        distances = np.linalg.norm(train_set.drop(columns=[LABEL_COLUMN]) - test_point.drop(index=[LABEL_COLUMN]), axis=1)\n",
    "        \n",
    "        nearest_indices = np.argsort(distances)[:k]\n",
    "        \n",
    "        #extract the labels of the nearest neighbors\n",
    "        nearest_labels = train_set.iloc[nearest_indices][LABEL_COLUMN]\n",
    "        \n",
    "        #predicting the label\n",
    "        predicted_label = nearest_labels.mode()[0]\n",
    "        \n",
    "        #predicted label to the corresponding index\n",
    "        predictions[i] = predicted_label\n",
    "    \n",
    "    return predictions"
   ]
  },
  {
   "cell_type": "markdown",
   "id": "b80cc7f6",
   "metadata": {},
   "source": [
    "Q4. Find the best value of k for this data. \n",
    "\n",
    "Try k ranging from 1 to 10 (odds only). For each k value, use a 5-fold cross validation to evaluate the accuracy with that k. In each fold of CV, divide your data into a training set and a validation set. Print out the best value of k and the accuracy achieved with that value. Return the best value of k. If there is a tie for best k, use the lowest of the k values.\n",
    "\n",
    "Hint: This is the *inner* loop of a nested cross validation."
   ]
  },
  {
   "cell_type": "code",
   "execution_count": 360,
   "id": "70de520e",
   "metadata": {},
   "outputs": [],
   "source": [
    "def find_best_k(data):\n",
    "    best_k, highest_accuracy = -1, 0\n",
    "    \n",
    "    fold_size = len(data) // 5\n",
    "    \n",
    "    #loop through odd values of k from 1 to 9\n",
    "    for k in range(1, 10, 2):\n",
    "        total_correct = 0\n",
    "        \n",
    "        for fold in range(5):\n",
    "            fold_start = fold * fold_size\n",
    "            fold_end = (fold + 1) * fold_size\n",
    "            training_set = pd.concat([data.iloc[:fold_start], data.iloc[fold_end:]])\n",
    "            testing_set = data.iloc[fold_start:fold_end]\n",
    "            \n",
    "            #predicting the labels using KNN\n",
    "            predictions = run_knn(training_set, testing_set, k)\n",
    "            \n",
    "            #counting the correct predictions\n",
    "            correct = sum(predictions == testing_set[LABEL_COLUMN])\n",
    "            total_correct += correct\n",
    "        \n",
    "        #updating best_k if applicable\n",
    "        accuracy = total_correct / len(data)\n",
    "        if accuracy > highest_accuracy:\n",
    "            best_k = k\n",
    "            highest_accuracy = accuracy\n",
    "\n",
    "    return best_k"
   ]
  },
  {
   "cell_type": "markdown",
   "id": "5da24b15",
   "metadata": {},
   "source": [
    "Q5. Now measure the accuracy of your classifier using 5-fold cross validation. \n",
    "\n",
    "In each fold of this CV, divide your data into a training set and a test set. The training set should get sent through your code for Q4, resulting in a value of k to use. Using that k, calculate an accuracy on the test set. You will average the accuracy over all 5 folds to obtain the final accuracy measurement. \n",
    "\n",
    "Print the accuracy, the confusion matrix, and the precision and recall for class label 1 (patients that have been diagnosed with the disease)."
   ]
  },
  {
   "cell_type": "code",
   "execution_count": 361,
   "id": "8a77f17b",
   "metadata": {},
   "outputs": [
    {
     "name": "stdout",
     "output_type": "stream",
     "text": [
      "Dataset size: (1150, 20)\n",
      "Accuracies: [0.6173913  0.62173913 0.64347826 0.59565217 0.62608696] | Avg: 0.6208695652173912\n"
     ]
    },
    {
     "data": {
      "text/html": [
       "<div>\n",
       "<style scoped>\n",
       "    .dataframe tbody tr th:only-of-type {\n",
       "        vertical-align: middle;\n",
       "    }\n",
       "\n",
       "    .dataframe tbody tr th {\n",
       "        vertical-align: top;\n",
       "    }\n",
       "\n",
       "    .dataframe thead th {\n",
       "        text-align: right;\n",
       "    }\n",
       "</style>\n",
       "<table border=\"1\" class=\"dataframe\">\n",
       "  <thead>\n",
       "    <tr style=\"text-align: right;\">\n",
       "      <th></th>\n",
       "      <th>Predicted 1</th>\n",
       "      <th>Predicted 0</th>\n",
       "    </tr>\n",
       "  </thead>\n",
       "  <tbody>\n",
       "    <tr>\n",
       "      <th>Actual 1</th>\n",
       "      <td>363</td>\n",
       "      <td>248</td>\n",
       "    </tr>\n",
       "    <tr>\n",
       "      <th>Actual 0</th>\n",
       "      <td>188</td>\n",
       "      <td>351</td>\n",
       "    </tr>\n",
       "  </tbody>\n",
       "</table>\n",
       "</div>"
      ],
      "text/plain": [
       "          Predicted 1  Predicted 0\n",
       "Actual 1          363          248\n",
       "Actual 0          188          351"
      ]
     },
     "metadata": {},
     "output_type": "display_data"
    },
    {
     "name": "stdout",
     "output_type": "stream",
     "text": [
      "\n",
      "Total time (seconds): 8.768813133239746\n"
     ]
    }
   ],
   "source": [
    "import time\n",
    "from sklearn.metrics import confusion_matrix, precision_score, recall_score\n",
    "\n",
    "def run_CV(filename):\n",
    "    # Read in data\n",
    "    data = pd.read_csv(filename, header=None)\n",
    "    print(\"Dataset size:\", data.shape)\n",
    "\n",
    "    start_time = time.time()\n",
    "    accuracies = np.zeros(5)\n",
    "    TP, FN, FP, TN = 0, 0, 0, 0\n",
    "\n",
    "    #five-fold cross validation\n",
    "    fold_size = len(data) // 5\n",
    "    for f in range(5):\n",
    "        fold_start = f * fold_size\n",
    "        fold_end = (f + 1) * fold_size\n",
    "        \n",
    "        training_set = pd.concat([data.iloc[:fold_start], data.iloc[fold_end:]])\n",
    "        testing_set = data.iloc[fold_start:fold_end]\n",
    "    \n",
    "        best_k = find_best_k(training_set)\n",
    "        predictions = run_knn(training_set, testing_set, best_k)\n",
    "        \n",
    "        #finding accuracy\n",
    "        accuracy = sum(predictions == testing_set[LABEL_COLUMN]) / len(testing_set)\n",
    "        accuracies[f] = accuracy\n",
    "        \n",
    "        #confusion matrix computations\n",
    "        TP += sum((predictions == 1) & (testing_set[LABEL_COLUMN] == 1))\n",
    "        FN += sum((predictions == 0) & (testing_set[LABEL_COLUMN] == 1))\n",
    "        FP += sum((predictions == 1) & (testing_set[LABEL_COLUMN] == 0))\n",
    "        TN += sum((predictions == 0) & (testing_set[LABEL_COLUMN] == 0))\n",
    "\n",
    "    avg_accuracy = np.mean(accuracies)\n",
    "    print(f\"Accuracies: {accuracies} | Avg: {avg_accuracy}\")\n",
    "    print_confusion_matrix(TP, FN, FP, TN)\n",
    "\n",
    "    end_time = time.time()\n",
    "    print(\"\\nTotal time (seconds):\", end_time - start_time)\n",
    "\n",
    "run_CV(\"messidor_features.txt\")"
   ]
  },
  {
   "cell_type": "code",
   "execution_count": null,
   "id": "b4367164",
   "metadata": {},
   "outputs": [],
   "source": []
  }
 ],
 "metadata": {
  "kernelspec": {
   "display_name": "Python 3 (ipykernel)",
   "language": "python",
   "name": "python3"
  },
  "language_info": {
   "codemirror_mode": {
    "name": "ipython",
    "version": 3
   },
   "file_extension": ".py",
   "mimetype": "text/x-python",
   "name": "python",
   "nbconvert_exporter": "python",
   "pygments_lexer": "ipython3",
   "version": "3.11.1"
  }
 },
 "nbformat": 4,
 "nbformat_minor": 5
}
