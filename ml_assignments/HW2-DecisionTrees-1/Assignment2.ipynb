{
 "cells": [
  {
   "cell_type": "markdown",
   "metadata": {},
   "source": [
    "#### This assignment may be worked individually or in pairs. Enter your name/s here:\n",
    "    "
   ]
  },
  {
   "cell_type": "code",
   "execution_count": 64,
   "metadata": {},
   "outputs": [],
   "source": [
    "#Ritu Gupta "
   ]
  },
  {
   "cell_type": "markdown",
   "metadata": {
    "collapsed": true
   },
   "source": [
    "# Assignment 2: Decision Trees\n",
    "\n",
    "In this assignment we'll implement the Decision Tree algorithm to classify patients as either having or not having diabetic retinopathy. For this task we'll be using the Diabetic Retinopathy data set, which contains features from the Messidor image set to predict whether an image contains signs of diabetic retinopathy or not. This dataset has `1150` records and `20` attributes (some categorical, some continuous). You can find additional details about the dataset [here](http://archive.ics.uci.edu/ml/datasets/Diabetic+Retinopathy+Debrecen+Data+Set)."
   ]
  },
  {
   "cell_type": "markdown",
   "metadata": {},
   "source": [
    "Attribute Information:\n",
    "\n",
    "0) The binary result of quality assessment. 0 = bad quality 1 = sufficient quality.\n",
    "\n",
    "1) The binary result of pre-screening, where 1 indicates severe retinal abnormality and 0 its lack. \n",
    "\n",
    "2-7) The results of MA detection. Each feature value stand for the number of MAs found at the confidence levels alpha = 0.5, . . . , 1, respectively. \n",
    "\n",
    "8-15) contain the same information as 2-7) for exudates. However, as exudates are represented by a set of points rather than the number of pixels constructing the lesions, these features are normalized by dividing the \n",
    "number of lesions with the diameter of the ROI to compensate different image sizes. \n",
    "\n",
    "16) The euclidean distance of the center of the macula and the center of the optic disc to provide important information regarding the patient's condition. This feature is also normalized with the diameter of the ROI.\n",
    "\n",
    "17) The diameter of the optic disc. \n",
    "\n",
    "18) The binary result of the AM/FM-based classification.\n",
    "\n",
    "19) Class label. 1 = contains signs of Diabetic Retinopathy, 0 = no signs of Diabetic Retinopathy."
   ]
  },
  {
   "cell_type": "markdown",
   "metadata": {},
   "source": [
    "#### Implementation: \n",
    "The function prototypes are given to you, please don't change those. You can add additional helper functions if needed. \n",
    "\n",
    "*Suggestion:* The dataset is substantially big, for the purpose of easy debugging, work with a subset of the data and test your decision tree implementation on that.\n",
    "\n",
    "#### Notes:\n",
    "Parts of this assignment will be **autograded** so a couple of caveats :-\n",
    "- Entropy is calculated using log with base 2, `math.log2(x)`.\n",
    "- For continuous features ensure that the threshold value lies exactly between 2 values. For example, if for feature 2 the best split occurs between 10 and 15 then the threshold value will be set as 12.5. For binary features [0/1] the threshold value will be 0.5.\n",
    "- All values < `thresh_val` go to the left child and all values >= `thresh_val` go to the right child."
   ]
  },
  {
   "cell_type": "code",
   "execution_count": 65,
   "metadata": {},
   "outputs": [],
   "source": [
    "# Standard Headers\n",
    "# You are welcome to add additional headers if you wish\n",
    "# EXCEPT for scikit-learn... You may NOT use scikit-learn for this assignment!\n",
    "import pandas as pd\n",
    "import numpy as np\n",
    "from math import log2\n",
    "from math import floor\n",
    "from collections import Counter"
   ]
  },
  {
   "cell_type": "code",
   "execution_count": 66,
   "metadata": {},
   "outputs": [],
   "source": [
    "class DataPoint:\n",
    "    def __str__(self):\n",
    "        return \"< \" + str(self.label) + \": \" + str(self.features) + \" >\"\n",
    "    \n",
    "    def __init__(self, label, features):\n",
    "        self.label = label # the classification label of this data point\n",
    "        self.features = features # a list of feature values for this data point"
   ]
  },
  {
   "cell_type": "markdown",
   "metadata": {},
   "source": [
    "Q1. Read data from a CSV file. Put it into a list of `DataPoints`."
   ]
  },
  {
   "cell_type": "code",
   "execution_count": 67,
   "metadata": {},
   "outputs": [],
   "source": [
    "def get_data(filename):\n",
    "    data = []\n",
    "#   your code goes here\n",
    "    df = pd.read_csv(filename, header=None).to_numpy()\n",
    "    for dp in df:\n",
    "        #class label and attributes\n",
    "        data.append(DataPoint(dp[19], dp[0:18]))\n",
    "\n",
    "    return data"
   ]
  },
  {
   "cell_type": "code",
   "execution_count": 68,
   "metadata": {},
   "outputs": [],
   "source": [
    "class TreeNode:\n",
    "    is_leaf = True          # boolean variable to check if the node is a leaf\n",
    "    feature_idx = None      # index that identifies the feature\n",
    "    thresh_val = None       # threshold value that splits the node\n",
    "    prediction = None       # prediction class (only valid for leaf nodes)\n",
    "    left_child = None       # left TreeNode (all values < thresh_val)\n",
    "    right_child = None      # right TreeNode (all values >= thresh_val)\n",
    "    \n",
    "    def printTree(self, level=0):    # for debugging purposes\n",
    "        if self.is_leaf:\n",
    "            print ('-'*level + 'Leaf Node:      predicts ' + str(self.prediction))\n",
    "        else:\n",
    "            print ('-'*level + 'Internal Node:  splits on feature ' \n",
    "                   + str(self.feature_idx) + ' with threshold ' + str(self.thresh_val))\n",
    "            self.left_child.printTree(level+1)\n",
    "            self.right_child.printTree(level+1)"
   ]
  },
  {
   "cell_type": "markdown",
   "metadata": {},
   "source": [
    "Q2. Implement the function `make_prediction` that takes the decision tree root and a `DataPoint` instance and returns the prediction label."
   ]
  },
  {
   "cell_type": "code",
   "execution_count": 69,
   "metadata": {},
   "outputs": [],
   "source": [
    "def make_prediction(tree_root, data_point):\n",
    "#     your code goes here\n",
    "    node = tree_root\n",
    "    #if there are still more steps to be taken\n",
    "    while node.is_leaf != True:\n",
    "        #if the value is less than, goes to the left child\n",
    "        if data_point.features[node.feature_idx] < node.thresh_val:\n",
    "            node = node.left_child\n",
    "        else:\n",
    "            node = node.right_child\n",
    "    #prediction class\n",
    "    return node.prediction"
   ]
  },
  {
   "cell_type": "markdown",
   "metadata": {},
   "source": [
    "Q3. Implement the function `split_dataset` given an input data set, a `feature_idx` and the `threshold` for the feature. `left_split` will have all values < `threshold` and `right_split` will have all values >= `threshold`."
   ]
  },
  {
   "cell_type": "code",
   "execution_count": 70,
   "metadata": {},
   "outputs": [],
   "source": [
    "def split_dataset(data, feature_idx, threshold):\n",
    "    left_split = []\n",
    "    right_split = []\n",
    "#     your code goes here\n",
    "    for dp in data:\n",
    "        if dp.features[feature_idx] >= threshold:\n",
    "            right_split.append(dp)\n",
    "        else:\n",
    "            left_split.append(dp)\n",
    "    return (left_split, right_split)"
   ]
  },
  {
   "cell_type": "markdown",
   "metadata": {},
   "source": [
    "Q4. Implement the function `calc_entropy` to return the entropy of the input dataset."
   ]
  },
  {
   "cell_type": "code",
   "execution_count": 71,
   "metadata": {},
   "outputs": [],
   "source": [
    "def calc_entropy(data):\n",
    "    entropy = 0.0\n",
    "#     your code goes here\n",
    "    num_instances = len(data)  #all instances in ds\n",
    "\n",
    "    #entropy 0 if ds empty \n",
    "    if num_instances == 0:\n",
    "        return entropy\n",
    "\n",
    "    #frequency of each class label \n",
    "    label_counts = Counter(point.label for point in data)\n",
    "\n",
    "    # Calculate entropy\n",
    "    for label_count in label_counts.values():\n",
    "        #prob of each class label\n",
    "        pi = label_count / num_instances\n",
    "        # Update entropy\n",
    "        entropy -= pi * log2(pi)\n",
    "    return entropy"
   ]
  },
  {
   "cell_type": "markdown",
   "metadata": {},
   "source": [
    "Q5. Implement the function `calc_best_threshold` which returns the best information gain and the corresponding threshold value for one feature at `feature_idx`."
   ]
  },
  {
   "cell_type": "code",
   "execution_count": 72,
   "metadata": {},
   "outputs": [],
   "source": [
    "def calc_best_threshold(data, feature_idx):\n",
    "    best_info_gain = 0.0\n",
    "    best_thresh = None\n",
    "#     your code goes here\n",
    "     #sort based on the feature @ feature_idx\n",
    "    sorted_data = sorted(data, key=lambda x: x.features[feature_idx])\n",
    "\n",
    "    # iteratre through to find best threshold\n",
    "    for i in range(1, len(sorted_data)):\n",
    "        # calculate midpoint \n",
    "        thresh = (sorted_data[i - 1].features[feature_idx] + sorted_data[i].features[feature_idx]) / 2\n",
    "        \n",
    "        # split based on the current threshold\n",
    "        left_split, right_split = split_dataset(sorted_data, feature_idx, thresh)\n",
    "        \n",
    "        # entropy for left and right splits\n",
    "        entropy_left = calc_entropy(left_split)\n",
    "        entropy_right = calc_entropy(right_split)\n",
    "        \n",
    "        #find info gain\n",
    "        info_gain = calc_entropy(sorted_data) - (len(left_split) / len(sorted_data) * entropy_left + len(right_split) / len(sorted_data) * entropy_right)\n",
    "        \n",
    "        #update info gain and threshold\n",
    "        if info_gain > best_info_gain:\n",
    "            best_info_gain = info_gain\n",
    "            best_thresh = thresh\n",
    "    \n",
    "    return (best_info_gain, best_thresh)"
   ]
  },
  {
   "cell_type": "markdown",
   "metadata": {},
   "source": [
    "Q6. Implement the function `identify_best_split` which returns the best feature to split on for an input dataset, and also returns the corresponding threshold value."
   ]
  },
  {
   "cell_type": "code",
   "execution_count": 73,
   "metadata": {},
   "outputs": [],
   "source": [
    "def identify_best_split(data):\n",
    "    if len(data) < 2:\n",
    "        return (None, None)\n",
    "    best_feature = None\n",
    "    best_thresh = None\n",
    "#     your code goes here\n",
    "    num_features = len(data[0].features)  # num features in ds\n",
    "    best_info_gain = 0.0\n",
    "\n",
    "    #going through each feature\n",
    "    for feature_idx in range(num_features):\n",
    "        # calc best threshold for curr feature\n",
    "        feature_info_gain, feature_thresh = calc_best_threshold(data, feature_idx)\n",
    "        \n",
    "        # Update if curr feature's info gain is higher\n",
    "        if feature_info_gain > best_info_gain:\n",
    "            best_info_gain = feature_info_gain\n",
    "            best_feature = feature_idx\n",
    "            best_thresh = feature_thresh\n",
    "    \n",
    "    return (best_feature, best_thresh)"
   ]
  },
  {
   "cell_type": "markdown",
   "metadata": {},
   "source": [
    "Q7. Implement the function `create_leaf_node` which returns a `TreeNode` with `is_leaf=True` and `prediction` set to whichever classification occurs most in the dataset at this node. If there is a tie, choose classification label 1 (has disease). "
   ]
  },
  {
   "cell_type": "code",
   "execution_count": 74,
   "metadata": {},
   "outputs": [],
   "source": [
    "def create_leaf_node(data):\n",
    "#     your code goes here\n",
    "    #counting how many times each class occurs \n",
    "    class_0 = 0\n",
    "    class_1 = 0\n",
    "\n",
    "    # Count occurrences of each class label in the dataset\n",
    "    for dp in data:\n",
    "        if dp.label == 0:\n",
    "            class_0 += 1\n",
    "        else:\n",
    "            class_1 += 1\n",
    "\n",
    "    #finding which one occurred more \n",
    "    if class_0 >= class_1:\n",
    "        prediction = 0\n",
    "    else:\n",
    "        prediction = 1\n",
    "\n",
    "    #making node for the leaf\n",
    "    leaf_node = TreeNode()\n",
    "    leaf_node.is_leaf = True\n",
    "    leaf_node.prediction = prediction\n",
    "    \n",
    "    return leaf_node"
   ]
  },
  {
   "cell_type": "markdown",
   "metadata": {},
   "source": [
    "Q8. Implement the `create_decision_tree` function. `max_levels` denotes the maximum height of the tree (for example if `max_levels = 1` then the decision tree will only contain the leaf node at the root). [Hint: this is where the recursion happens.]"
   ]
  },
  {
   "cell_type": "code",
   "execution_count": 75,
   "metadata": {},
   "outputs": [],
   "source": [
    "def create_decision_tree(data, max_levels):\n",
    "#     your code goes here\n",
    "    if max_levels == 1:\n",
    "        return create_leaf_node(data)\n",
    "    \n",
    "    #finding what's best to split on\n",
    "    best_feature, best_thresh = identify_best_split(data)\n",
    "    \n",
    "    #leaf node if no best feature \n",
    "    if best_feature == None:\n",
    "        return create_leaf_node(data)\n",
    "    \n",
    "    #splitting based on feature and threshold\n",
    "    left_split, right_split = split_dataset(data, best_feature, best_thresh)\n",
    "    \n",
    "    node = TreeNode()\n",
    "    node.is_leaf = False\n",
    "    node.thresh_val = best_thresh\n",
    "    node.feature_idx = best_feature\n",
    "    \n",
    "    #building the subtrees\n",
    "    node.right_child = create_decision_tree(right_split, max_levels - 1)\n",
    "    node.left_child = create_decision_tree(left_split, max_levels - 1)    \n",
    "    \n",
    "    return node"
   ]
  },
  {
   "cell_type": "markdown",
   "metadata": {},
   "source": [
    "Q9. Given a test set, the function `calc_accuracy` returns the accuracy of the classifier. You'll use the `make_prediction` function for this."
   ]
  },
  {
   "cell_type": "code",
   "execution_count": 76,
   "metadata": {},
   "outputs": [],
   "source": [
    "def calc_accuracy(tree_root, data):\n",
    "#     your code goes here\n",
    "    accurate = 0\n",
    "    \n",
    "    for data_point in data:\n",
    "        if data_point.label == make_prediction(tree_root, data_point):\n",
    "            accurate += 1\n",
    "            \n",
    "    #return the accuracy\n",
    "    accuracy = accurate / len(data)\n",
    "    return accuracy"
   ]
  },
  {
   "cell_type": "markdown",
   "metadata": {},
   "source": [
    "Q10. Keeping the `max_levels` parameter as 10, use 5-fold cross validation to measure the accuracy of the model. Print the accuracy of the model."
   ]
  },
  {
   "cell_type": "code",
   "execution_count": 77,
   "metadata": {
    "scrolled": true
   },
   "outputs": [
    {
     "name": "stdout",
     "output_type": "stream",
     "text": [
      "Training set size: 920\n",
      "Test set size    : 230\n",
      "Time taken: 11.533660888671875\n",
      "Accuracy on the test set: 64.78260869565217\n",
      "Training set size: 920\n",
      "Test set size    : 230\n",
      "Time taken: 10.789817094802856\n",
      "Accuracy on the test set: 62.17391304347826\n",
      "Training set size: 920\n",
      "Test set size    : 230\n",
      "Time taken: 10.628371000289917\n",
      "Accuracy on the test set: 66.95652173913044\n",
      "Training set size: 920\n",
      "Test set size    : 230\n",
      "Time taken: 10.66664171218872\n",
      "Accuracy on the test set: 63.91304347826087\n",
      "Training set size: 920\n",
      "Test set size    : 230\n",
      "Time taken: 10.637266874313354\n",
      "Accuracy on the test set: 63.91304347826087\n",
      "Avg accuracy of model:  64.34782608695653\n"
     ]
    }
   ],
   "source": [
    "# edit the code here - this is just a sample to get you started\n",
    "import time\n",
    "\n",
    "d = get_data(\"messidor_features.txt\")\n",
    "full_accuracy = 0.0\n",
    "k = 5 # number of folds\n",
    "\n",
    "# partition data into train_set and test_set\n",
    "for i in range(0, k):\n",
    "    # Partition data into train_set and test_set\n",
    "    test_start = floor((i / k) * len(d))\n",
    "    test_end = floor(((i + 1) / k) * len(d))\n",
    "    test_set = d[test_start: test_end]\n",
    "    train_set = d[0: test_start] + d[test_end: len(d)]\n",
    "\n",
    "    print ('Training set size:', len(train_set))\n",
    "    print ('Test set size    :', len(test_set))\n",
    "\n",
    "    # the timer is just for fun! you will NOT be graded on runtime\n",
    "    start = time.time()\n",
    "\n",
    "    # create the decision tree\n",
    "    tree = create_decision_tree(train_set, 10)\n",
    "\n",
    "    end = time.time()\n",
    "    print ('Time taken:', end - start)\n",
    "\n",
    "    # calculate the accuracy of the tree\n",
    "    accuracy = calc_accuracy(tree, test_set)\n",
    "    full_accuracy = full_accuracy + accuracy\n",
    "    print ('Accuracy on the test set:', str(accuracy * 100.0))\n",
    "\n",
    "\n",
    "print('Avg accuracy of model: ', str((full_accuracy / k) * 100))\n",
    "#t.printTree()"
   ]
  }
 ],
 "metadata": {
  "kernelspec": {
   "display_name": "Python 3 (ipykernel)",
   "language": "python",
   "name": "python3"
  },
  "language_info": {
   "codemirror_mode": {
    "name": "ipython",
    "version": 3
   },
   "file_extension": ".py",
   "mimetype": "text/x-python",
   "name": "python",
   "nbconvert_exporter": "python",
   "pygments_lexer": "ipython3",
   "version": "3.11.1"
  }
 },
 "nbformat": 4,
 "nbformat_minor": 2
}
