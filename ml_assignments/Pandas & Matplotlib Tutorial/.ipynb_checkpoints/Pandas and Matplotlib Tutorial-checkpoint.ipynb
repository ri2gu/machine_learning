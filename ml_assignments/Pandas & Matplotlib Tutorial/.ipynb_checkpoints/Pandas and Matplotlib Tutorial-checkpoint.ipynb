{
 "cells": [
  {
   "cell_type": "markdown",
   "metadata": {},
   "source": [
    "# Pandas and Matplotlib Tutorial"
   ]
  },
  {
   "cell_type": "code",
   "execution_count": 2,
   "metadata": {},
   "outputs": [],
   "source": [
    "# Standard Headers\n",
    "import pandas as pd\n",
    "import matplotlib.pyplot as plt\n",
    "\n",
    "# Enable inline mode for matplotlib so that Jupyter displays graphs\n",
    "%matplotlib inline"
   ]
  },
  {
   "cell_type": "markdown",
   "metadata": {},
   "source": [
    "## 1. Intro to Pandas\n",
    "\n",
    "Pandas provide two convenient data structures for storing and manipulating data-- Series and DataFrame. A Series is similar to a one-dimensional array whereas a DataFrame is more similar to representing a matrix or a spreadsheet table.  \n",
    "\n",
    "The Pandas library documentation is [here](http://pandas.pydata.org/pandas-docs/stable/reference/index.html).\n",
    "\n",
    "In this tutorial, we will use the <a href=\"http://archive.ics.uci.edu/ml/datasets/Iris\">Iris dataset</a> from the UCI machine learning repository, which contains information on 150 Iris flowers, 50 each from one of three Iris species: Setosa, Versicolor, and Virginica. Each flower is characterized by five attributes:\n",
    "\n",
    "- sepal length in centimeters\n",
    "\n",
    "- sepal width in centimeters\n",
    "\n",
    "- petal length in centimeters\n",
    "\n",
    "- petal width in centimeters\n",
    "\n",
    "- class (Setosa, Versicolor, Virginica) \n",
    "\n",
    "<img src=\"iris.png\">\n",
    "\n",
    "### 1.1 Reading data from a CSV file\n",
    "You can find more on reading CSV (Comma Separated Value) data in to a Pandas dataframe [here](http://pandas.pydata.org/pandas-docs/stable/generated/pandas.read_csv.html).\n",
    "\n",
    "Documentation for Pandas DataFrames is [here](http://pandas.pydata.org/pandas-docs/stable/reference/frame.html)."
   ]
  },
  {
   "cell_type": "code",
   "execution_count": 57,
   "metadata": {},
   "outputs": [
    {
     "data": {
      "text/html": [
       "<div>\n",
       "<style scoped>\n",
       "    .dataframe tbody tr th:only-of-type {\n",
       "        vertical-align: middle;\n",
       "    }\n",
       "\n",
       "    .dataframe tbody tr th {\n",
       "        vertical-align: top;\n",
       "    }\n",
       "\n",
       "    .dataframe thead th {\n",
       "        text-align: right;\n",
       "    }\n",
       "</style>\n",
       "<table border=\"1\" class=\"dataframe\">\n",
       "  <thead>\n",
       "    <tr style=\"text-align: right;\">\n",
       "      <th></th>\n",
       "      <th>sepal length</th>\n",
       "      <th>sepal width</th>\n",
       "      <th>petal length</th>\n",
       "      <th>petal width</th>\n",
       "      <th>class</th>\n",
       "    </tr>\n",
       "  </thead>\n",
       "  <tbody>\n",
       "    <tr>\n",
       "      <th>0</th>\n",
       "      <td>5.1</td>\n",
       "      <td>3.5</td>\n",
       "      <td>1.4</td>\n",
       "      <td>0.2</td>\n",
       "      <td>Iris-setosa</td>\n",
       "    </tr>\n",
       "    <tr>\n",
       "      <th>1</th>\n",
       "      <td>4.9</td>\n",
       "      <td>3.0</td>\n",
       "      <td>1.4</td>\n",
       "      <td>0.2</td>\n",
       "      <td>Iris-setosa</td>\n",
       "    </tr>\n",
       "    <tr>\n",
       "      <th>2</th>\n",
       "      <td>4.7</td>\n",
       "      <td>3.2</td>\n",
       "      <td>1.3</td>\n",
       "      <td>0.2</td>\n",
       "      <td>Iris-setosa</td>\n",
       "    </tr>\n",
       "    <tr>\n",
       "      <th>3</th>\n",
       "      <td>4.6</td>\n",
       "      <td>3.1</td>\n",
       "      <td>1.5</td>\n",
       "      <td>0.2</td>\n",
       "      <td>Iris-setosa</td>\n",
       "    </tr>\n",
       "    <tr>\n",
       "      <th>4</th>\n",
       "      <td>5.0</td>\n",
       "      <td>3.6</td>\n",
       "      <td>1.4</td>\n",
       "      <td>0.2</td>\n",
       "      <td>Iris-setosa</td>\n",
       "    </tr>\n",
       "  </tbody>\n",
       "</table>\n",
       "</div>"
      ],
      "text/plain": [
       "   sepal length  sepal width  petal length  petal width        class\n",
       "0           5.1          3.5           1.4          0.2  Iris-setosa\n",
       "1           4.9          3.0           1.4          0.2  Iris-setosa\n",
       "2           4.7          3.2           1.3          0.2  Iris-setosa\n",
       "3           4.6          3.1           1.5          0.2  Iris-setosa\n",
       "4           5.0          3.6           1.4          0.2  Iris-setosa"
      ]
     },
     "execution_count": 57,
     "metadata": {},
     "output_type": "execute_result"
    }
   ],
   "source": [
    "#data = pd.read_csv('http://archive.ics.uci.edu/ml/machine-learning-databases/iris/iris.data', header=None)\n",
    "data = pd.read_csv('iris.data.txt', header=None)\n",
    "data.columns = ['sepal length', 'sepal width', 'petal length', 'petal width', 'class']\n",
    "\n",
    "data.head()  # displays the first 5 rows of the data frame\n",
    "\n",
    "#data.sample(10) # displays a sample of random rows"
   ]
  },
  {
   "cell_type": "markdown",
   "metadata": {},
   "source": [
    "### 1.2 Accessing elements of a DataFrame\n",
    "\n",
    "The elements of a DataFrame can be accessed in many ways.\n",
    "Accessing an entire row or column will return a Pandas Series object.\n",
    "\n",
    "Documentation for Pandas Series is [here](http://pandas.pydata.org/pandas-docs/stable/reference/series.html).\n",
    "\n",
    "Documentation for accessing elements of a DataFrame is [here](http://pandas.pydata.org/pandas-docs/stable/user_guide/indexing.html)."
   ]
  },
  {
   "cell_type": "code",
   "execution_count": 4,
   "metadata": {},
   "outputs": [
    {
     "name": "stdout",
     "output_type": "stream",
     "text": [
      "Row 2 of data table:\n",
      "sepal length            4.7\n",
      "sepal width             3.2\n",
      "petal length            1.3\n",
      "petal width             0.2\n",
      "class           Iris-setosa\n",
      "Name: 2, dtype: object\n",
      "\n",
      "Type= <class 'pandas.core.series.Series'>\n",
      "Values= [4.7 3.2 1.3 0.2 'Iris-setosa']\n",
      "Index= Index(['sepal length', 'sepal width', 'petal length', 'petal width', 'class'], dtype='object')\n"
     ]
    }
   ],
   "source": [
    "# accessing an entire row will return a Series object\n",
    "print('Row 2 of data table:')\n",
    "row = data.iloc[2]       # returns the 3rd row of DataFrame\n",
    "#print(data[2])          # must use iloc on Data Frames, this will error\n",
    "print(row)\n",
    "\n",
    "print('\\nType=', type(row))\n",
    "print('Values=', row.values)   # display values of the Series\n",
    "print('Index=', row.index)     # display indices of the Series"
   ]
  },
  {
   "cell_type": "code",
   "execution_count": 38,
   "metadata": {},
   "outputs": [
    {
     "name": "stdout",
     "output_type": "stream",
     "text": [
      "Col 3 of data table:\n",
      "0      0.2\n",
      "1      0.2\n",
      "2      0.2\n",
      "3      0.2\n",
      "4      0.2\n",
      "5      0.4\n",
      "6      0.3\n",
      "7      0.2\n",
      "8      0.2\n",
      "9      0.1\n",
      "10     0.2\n",
      "11     0.2\n",
      "12     0.1\n",
      "13     0.1\n",
      "14     0.2\n",
      "15     0.4\n",
      "16     0.4\n",
      "17     0.3\n",
      "18     0.3\n",
      "19     0.3\n",
      "20     0.2\n",
      "21     0.4\n",
      "22     0.2\n",
      "23     0.5\n",
      "24     0.2\n",
      "25     0.2\n",
      "26     0.4\n",
      "27     0.2\n",
      "28     0.2\n",
      "29     0.2\n",
      "      ... \n",
      "120    2.3\n",
      "121    2.0\n",
      "122    2.0\n",
      "123    1.8\n",
      "124    2.1\n",
      "125    1.8\n",
      "126    1.8\n",
      "127    1.8\n",
      "128    2.1\n",
      "129    1.6\n",
      "130    1.9\n",
      "131    2.0\n",
      "132    2.2\n",
      "133    1.5\n",
      "134    1.4\n",
      "135    2.3\n",
      "136    2.4\n",
      "137    1.8\n",
      "138    1.8\n",
      "139    2.1\n",
      "140    2.4\n",
      "141    2.3\n",
      "142    1.9\n",
      "143    2.3\n",
      "144    2.5\n",
      "145    2.3\n",
      "146    1.9\n",
      "147    2.0\n",
      "148    2.3\n",
      "149    1.8\n",
      "Name: petal width, Length: 150, dtype: float64\n",
      "<class 'pandas.core.series.Series'>\n",
      "0      0.2\n",
      "1      0.2\n",
      "2      0.2\n",
      "3      0.2\n",
      "4      0.2\n",
      "5      0.4\n",
      "6      0.3\n",
      "7      0.2\n",
      "8      0.2\n",
      "9      0.1\n",
      "10     0.2\n",
      "11     0.2\n",
      "12     0.1\n",
      "13     0.1\n",
      "14     0.2\n",
      "15     0.4\n",
      "16     0.4\n",
      "17     0.3\n",
      "18     0.3\n",
      "19     0.3\n",
      "20     0.2\n",
      "21     0.4\n",
      "22     0.2\n",
      "23     0.5\n",
      "24     0.2\n",
      "25     0.2\n",
      "26     0.4\n",
      "27     0.2\n",
      "28     0.2\n",
      "29     0.2\n",
      "      ... \n",
      "120    2.3\n",
      "121    2.0\n",
      "122    2.0\n",
      "123    1.8\n",
      "124    2.1\n",
      "125    1.8\n",
      "126    1.8\n",
      "127    1.8\n",
      "128    2.1\n",
      "129    1.6\n",
      "130    1.9\n",
      "131    2.0\n",
      "132    2.2\n",
      "133    1.5\n",
      "134    1.4\n",
      "135    2.3\n",
      "136    2.4\n",
      "137    1.8\n",
      "138    1.8\n",
      "139    2.1\n",
      "140    2.4\n",
      "141    2.3\n",
      "142    1.9\n",
      "143    2.3\n",
      "144    2.5\n",
      "145    2.3\n",
      "146    1.9\n",
      "147    2.0\n",
      "148    2.3\n",
      "149    1.8\n",
      "Name: petal width, Length: 150, dtype: float64\n",
      "0      0.2\n",
      "1      0.2\n",
      "2      0.2\n",
      "3      0.2\n",
      "4      0.2\n",
      "5      0.4\n",
      "6      0.3\n",
      "7      0.2\n",
      "8      0.2\n",
      "9      0.1\n",
      "10     0.2\n",
      "11     0.2\n",
      "12     0.1\n",
      "13     0.1\n",
      "14     0.2\n",
      "15     0.4\n",
      "16     0.4\n",
      "17     0.3\n",
      "18     0.3\n",
      "19     0.3\n",
      "20     0.2\n",
      "21     0.4\n",
      "22     0.2\n",
      "23     0.5\n",
      "24     0.2\n",
      "25     0.2\n",
      "26     0.4\n",
      "27     0.2\n",
      "28     0.2\n",
      "29     0.2\n",
      "      ... \n",
      "120    2.3\n",
      "121    2.0\n",
      "122    2.0\n",
      "123    1.8\n",
      "124    2.1\n",
      "125    1.8\n",
      "126    1.8\n",
      "127    1.8\n",
      "128    2.1\n",
      "129    1.6\n",
      "130    1.9\n",
      "131    2.0\n",
      "132    2.2\n",
      "133    1.5\n",
      "134    1.4\n",
      "135    2.3\n",
      "136    2.4\n",
      "137    1.8\n",
      "138    1.8\n",
      "139    2.1\n",
      "140    2.4\n",
      "141    2.3\n",
      "142    1.9\n",
      "143    2.3\n",
      "144    2.5\n",
      "145    2.3\n",
      "146    1.9\n",
      "147    2.0\n",
      "148    2.3\n",
      "149    1.8\n",
      "Name: petal width, Length: 150, dtype: float64\n"
     ]
    }
   ],
   "source": [
    "# accessing an entire column will return a Series object\n",
    "print('Col 3 of data table:')\n",
    "print(data['petal width'])  # access column directly by name\n",
    "print(type(data['petal width']))\n",
    "\n",
    "# could also do:\n",
    "# use iloc for numerical indices, use loc for text indices\n",
    "print(data.iloc[:,3]) # [all rows, col 3]\n",
    "print(data.loc[:,'petal width']) # all rows, col by name\n"
   ]
  },
  {
   "cell_type": "code",
   "execution_count": 6,
   "metadata": {
    "scrolled": true
   },
   "outputs": [
    {
     "name": "stdout",
     "output_type": "stream",
     "text": [
      "1.4\n",
      "3.0\n",
      "\n",
      "   sepal width  petal length\n",
      "1          3.0           1.4\n",
      "2          3.2           1.3\n",
      "3          3.1           1.5\n",
      "4          3.6           1.4\n",
      "5          3.9           1.7\n",
      "6          3.4           1.4\n",
      "7          3.4           1.5\n",
      "8          2.9           1.4\n",
      "9          3.1           1.5\n",
      "\n",
      "    petal length  sepal width\n",
      "5            1.7          3.9\n",
      "6            1.4          3.4\n",
      "7            1.5          3.4\n",
      "8            1.4          2.9\n",
      "9            1.5          3.1\n",
      "10           1.5          3.7\n"
     ]
    }
   ],
   "source": [
    "# accessing a specific element of the DataFrame\n",
    "# use iloc for numerical indexes\n",
    "# use loc for title indexes\n",
    "\n",
    "print(data.iloc[1,2])            # retrieving first row, second column\n",
    "print(data.loc[1,'sepal width']) # retrieving first row, column named 'sepal width'\n",
    "\n",
    "# accessing a slice of the DataFrame\n",
    "print(\"\")\n",
    "print(data.iloc[1:10,1:3])  # get rows 1-9, cols 1-2\n",
    "\n",
    "print(\"\")\n",
    "print(data.loc[5:10, ['petal length', 'sepal width']]) # get rows 5-9, cols 'petal length' & 'sepal width'"
   ]
  },
  {
   "cell_type": "code",
   "execution_count": 43,
   "metadata": {
    "scrolled": true
   },
   "outputs": [
    {
     "name": "stdout",
     "output_type": "stream",
     "text": [
      "     sepal length  sepal width  petal length  petal width           class\n",
      "4             5.0          3.6           1.4          0.2     Iris-setosa\n",
      "5             5.4          3.9           1.7          0.4     Iris-setosa\n",
      "10            5.4          3.7           1.5          0.2     Iris-setosa\n",
      "14            5.8          4.0           1.2          0.2     Iris-setosa\n",
      "15            5.7          4.4           1.5          0.4     Iris-setosa\n",
      "16            5.4          3.9           1.3          0.4     Iris-setosa\n",
      "18            5.7          3.8           1.7          0.3     Iris-setosa\n",
      "19            5.1          3.8           1.5          0.3     Iris-setosa\n",
      "21            5.1          3.7           1.5          0.4     Iris-setosa\n",
      "22            4.6          3.6           1.0          0.2     Iris-setosa\n",
      "32            5.2          4.1           1.5          0.1     Iris-setosa\n",
      "33            5.5          4.2           1.4          0.2     Iris-setosa\n",
      "44            5.1          3.8           1.9          0.4     Iris-setosa\n",
      "46            5.1          3.8           1.6          0.2     Iris-setosa\n",
      "48            5.3          3.7           1.5          0.2     Iris-setosa\n",
      "109           7.2          3.6           6.1          2.5  Iris-virginica\n",
      "117           7.7          3.8           6.7          2.2  Iris-virginica\n",
      "131           7.9          3.8           6.4          2.0  Iris-virginica\n"
     ]
    }
   ],
   "source": [
    "# selection and filtering\n",
    "\n",
    "#print(data['sepal width'] > 3.5) # returns a series of booleans\n",
    "\n",
    "# selects and filters the data based on the series of booleans\n",
    "print(data[data['sepal width'] > 3.5])"
   ]
  },
  {
   "cell_type": "markdown",
   "metadata": {},
   "source": [
    "### 1.3 Data Summary Information\n",
    "Getting summary information about the data."
   ]
  },
  {
   "cell_type": "code",
   "execution_count": 8,
   "metadata": {},
   "outputs": [
    {
     "name": "stdout",
     "output_type": "stream",
     "text": [
      "data.shape = (150, 5)\n",
      "data.size = 750\n"
     ]
    }
   ],
   "source": [
    "print('data.shape =', data.shape) # dimensions of the table (rows, cols)\n",
    "print('data.size =', data.size)   # total number of elements in the table (rows x cols)"
   ]
  },
  {
   "cell_type": "code",
   "execution_count": 49,
   "metadata": {},
   "outputs": [
    {
     "name": "stdout",
     "output_type": "stream",
     "text": [
      "['Iris-setosa' 'Iris-versicolor' 'Iris-virginica']\n",
      "\n",
      "[3.5 3.  3.2 3.1 3.6 3.9 3.4 2.9 3.7 4.  4.4 3.8 3.3 4.1 4.2 2.3 2.8 2.4\n",
      " 2.7 2.  2.2 2.5 2.6]\n",
      "\n",
      "Iris-virginica     50\n",
      "Iris-versicolor    50\n",
      "Iris-setosa        50\n",
      "Name: class, dtype: int64\n",
      "\n",
      "3.0    26\n",
      "2.8    14\n",
      "3.2    13\n",
      "3.4    12\n",
      "3.1    12\n",
      "2.9    10\n",
      "2.7     9\n",
      "2.5     8\n",
      "3.5     6\n",
      "3.8     6\n",
      "3.3     6\n",
      "2.6     5\n",
      "2.3     4\n",
      "3.6     3\n",
      "2.4     3\n",
      "2.2     3\n",
      "3.7     3\n",
      "3.9     2\n",
      "4.2     1\n",
      "4.1     1\n",
      "4.4     1\n",
      "2.0     1\n",
      "4.0     1\n",
      "Name: sepal width, dtype: int64\n",
      "\n",
      "<class 'pandas.core.series.Series'>\n"
     ]
    }
   ],
   "source": [
    "# see the unique values for a column\n",
    "print(data['class'].unique())\n",
    "print(\"\")\n",
    "print(data['sepal width'].unique())\n",
    "\n",
    "# see how many there are of each of those values\n",
    "print(\"\")\n",
    "print(data['class'].value_counts())\n",
    "\n",
    "print(\"\")\n",
    "print(data['sepal width'].value_counts())\n",
    "\n",
    "# value_counts() returns a Series\n",
    "print(\"\")\n",
    "print(type(data['sepal width'].value_counts()))"
   ]
  },
  {
   "cell_type": "code",
   "execution_count": 10,
   "metadata": {
    "scrolled": true
   },
   "outputs": [
    {
     "data": {
      "text/html": [
       "<div>\n",
       "<style scoped>\n",
       "    .dataframe tbody tr th:only-of-type {\n",
       "        vertical-align: middle;\n",
       "    }\n",
       "\n",
       "    .dataframe tbody tr th {\n",
       "        vertical-align: top;\n",
       "    }\n",
       "\n",
       "    .dataframe thead th {\n",
       "        text-align: right;\n",
       "    }\n",
       "</style>\n",
       "<table border=\"1\" class=\"dataframe\">\n",
       "  <thead>\n",
       "    <tr style=\"text-align: right;\">\n",
       "      <th></th>\n",
       "      <th>sepal length</th>\n",
       "      <th>sepal width</th>\n",
       "      <th>petal length</th>\n",
       "      <th>petal width</th>\n",
       "    </tr>\n",
       "  </thead>\n",
       "  <tbody>\n",
       "    <tr>\n",
       "      <th>count</th>\n",
       "      <td>150.000000</td>\n",
       "      <td>150.000000</td>\n",
       "      <td>150.000000</td>\n",
       "      <td>150.000000</td>\n",
       "    </tr>\n",
       "    <tr>\n",
       "      <th>mean</th>\n",
       "      <td>5.843333</td>\n",
       "      <td>3.054000</td>\n",
       "      <td>3.758667</td>\n",
       "      <td>1.198667</td>\n",
       "    </tr>\n",
       "    <tr>\n",
       "      <th>std</th>\n",
       "      <td>0.828066</td>\n",
       "      <td>0.433594</td>\n",
       "      <td>1.764420</td>\n",
       "      <td>0.763161</td>\n",
       "    </tr>\n",
       "    <tr>\n",
       "      <th>min</th>\n",
       "      <td>4.300000</td>\n",
       "      <td>2.000000</td>\n",
       "      <td>1.000000</td>\n",
       "      <td>0.100000</td>\n",
       "    </tr>\n",
       "    <tr>\n",
       "      <th>25%</th>\n",
       "      <td>5.100000</td>\n",
       "      <td>2.800000</td>\n",
       "      <td>1.600000</td>\n",
       "      <td>0.300000</td>\n",
       "    </tr>\n",
       "    <tr>\n",
       "      <th>50%</th>\n",
       "      <td>5.800000</td>\n",
       "      <td>3.000000</td>\n",
       "      <td>4.350000</td>\n",
       "      <td>1.300000</td>\n",
       "    </tr>\n",
       "    <tr>\n",
       "      <th>75%</th>\n",
       "      <td>6.400000</td>\n",
       "      <td>3.300000</td>\n",
       "      <td>5.100000</td>\n",
       "      <td>1.800000</td>\n",
       "    </tr>\n",
       "    <tr>\n",
       "      <th>max</th>\n",
       "      <td>7.900000</td>\n",
       "      <td>4.400000</td>\n",
       "      <td>6.900000</td>\n",
       "      <td>2.500000</td>\n",
       "    </tr>\n",
       "  </tbody>\n",
       "</table>\n",
       "</div>"
      ],
      "text/plain": [
       "       sepal length  sepal width  petal length  petal width\n",
       "count    150.000000   150.000000    150.000000   150.000000\n",
       "mean       5.843333     3.054000      3.758667     1.198667\n",
       "std        0.828066     0.433594      1.764420     0.763161\n",
       "min        4.300000     2.000000      1.000000     0.100000\n",
       "25%        5.100000     2.800000      1.600000     0.300000\n",
       "50%        5.800000     3.000000      4.350000     1.300000\n",
       "75%        6.400000     3.300000      5.100000     1.800000\n",
       "max        7.900000     4.400000      6.900000     2.500000"
      ]
     },
     "execution_count": 10,
     "metadata": {},
     "output_type": "execute_result"
    }
   ],
   "source": [
    "# summary statistics for entire dataset\n",
    "data.describe()"
   ]
  },
  {
   "cell_type": "code",
   "execution_count": 50,
   "metadata": {},
   "outputs": [
    {
     "data": {
      "text/html": [
       "<div>\n",
       "<style scoped>\n",
       "    .dataframe tbody tr th:only-of-type {\n",
       "        vertical-align: middle;\n",
       "    }\n",
       "\n",
       "    .dataframe tbody tr th {\n",
       "        vertical-align: top;\n",
       "    }\n",
       "\n",
       "    .dataframe thead tr th {\n",
       "        text-align: left;\n",
       "    }\n",
       "\n",
       "    .dataframe thead tr:last-of-type th {\n",
       "        text-align: right;\n",
       "    }\n",
       "</style>\n",
       "<table border=\"1\" class=\"dataframe\">\n",
       "  <thead>\n",
       "    <tr>\n",
       "      <th></th>\n",
       "      <th colspan=\"8\" halign=\"left\">petal length</th>\n",
       "      <th colspan=\"2\" halign=\"left\">petal width</th>\n",
       "      <th>...</th>\n",
       "      <th colspan=\"2\" halign=\"left\">sepal length</th>\n",
       "      <th colspan=\"8\" halign=\"left\">sepal width</th>\n",
       "    </tr>\n",
       "    <tr>\n",
       "      <th></th>\n",
       "      <th>count</th>\n",
       "      <th>mean</th>\n",
       "      <th>std</th>\n",
       "      <th>min</th>\n",
       "      <th>25%</th>\n",
       "      <th>50%</th>\n",
       "      <th>75%</th>\n",
       "      <th>max</th>\n",
       "      <th>count</th>\n",
       "      <th>mean</th>\n",
       "      <th>...</th>\n",
       "      <th>75%</th>\n",
       "      <th>max</th>\n",
       "      <th>count</th>\n",
       "      <th>mean</th>\n",
       "      <th>std</th>\n",
       "      <th>min</th>\n",
       "      <th>25%</th>\n",
       "      <th>50%</th>\n",
       "      <th>75%</th>\n",
       "      <th>max</th>\n",
       "    </tr>\n",
       "    <tr>\n",
       "      <th>class</th>\n",
       "      <th></th>\n",
       "      <th></th>\n",
       "      <th></th>\n",
       "      <th></th>\n",
       "      <th></th>\n",
       "      <th></th>\n",
       "      <th></th>\n",
       "      <th></th>\n",
       "      <th></th>\n",
       "      <th></th>\n",
       "      <th></th>\n",
       "      <th></th>\n",
       "      <th></th>\n",
       "      <th></th>\n",
       "      <th></th>\n",
       "      <th></th>\n",
       "      <th></th>\n",
       "      <th></th>\n",
       "      <th></th>\n",
       "      <th></th>\n",
       "      <th></th>\n",
       "    </tr>\n",
       "  </thead>\n",
       "  <tbody>\n",
       "    <tr>\n",
       "      <th>Iris-setosa</th>\n",
       "      <td>50.0</td>\n",
       "      <td>1.464</td>\n",
       "      <td>0.173511</td>\n",
       "      <td>1.0</td>\n",
       "      <td>1.4</td>\n",
       "      <td>1.50</td>\n",
       "      <td>1.575</td>\n",
       "      <td>1.9</td>\n",
       "      <td>50.0</td>\n",
       "      <td>0.244</td>\n",
       "      <td>...</td>\n",
       "      <td>5.2</td>\n",
       "      <td>5.8</td>\n",
       "      <td>50.0</td>\n",
       "      <td>3.418</td>\n",
       "      <td>0.381024</td>\n",
       "      <td>2.3</td>\n",
       "      <td>3.125</td>\n",
       "      <td>3.4</td>\n",
       "      <td>3.675</td>\n",
       "      <td>4.4</td>\n",
       "    </tr>\n",
       "    <tr>\n",
       "      <th>Iris-versicolor</th>\n",
       "      <td>50.0</td>\n",
       "      <td>4.260</td>\n",
       "      <td>0.469911</td>\n",
       "      <td>3.0</td>\n",
       "      <td>4.0</td>\n",
       "      <td>4.35</td>\n",
       "      <td>4.600</td>\n",
       "      <td>5.1</td>\n",
       "      <td>50.0</td>\n",
       "      <td>1.326</td>\n",
       "      <td>...</td>\n",
       "      <td>6.3</td>\n",
       "      <td>7.0</td>\n",
       "      <td>50.0</td>\n",
       "      <td>2.770</td>\n",
       "      <td>0.313798</td>\n",
       "      <td>2.0</td>\n",
       "      <td>2.525</td>\n",
       "      <td>2.8</td>\n",
       "      <td>3.000</td>\n",
       "      <td>3.4</td>\n",
       "    </tr>\n",
       "    <tr>\n",
       "      <th>Iris-virginica</th>\n",
       "      <td>50.0</td>\n",
       "      <td>5.552</td>\n",
       "      <td>0.551895</td>\n",
       "      <td>4.5</td>\n",
       "      <td>5.1</td>\n",
       "      <td>5.55</td>\n",
       "      <td>5.875</td>\n",
       "      <td>6.9</td>\n",
       "      <td>50.0</td>\n",
       "      <td>2.026</td>\n",
       "      <td>...</td>\n",
       "      <td>6.9</td>\n",
       "      <td>7.9</td>\n",
       "      <td>50.0</td>\n",
       "      <td>2.974</td>\n",
       "      <td>0.322497</td>\n",
       "      <td>2.2</td>\n",
       "      <td>2.800</td>\n",
       "      <td>3.0</td>\n",
       "      <td>3.175</td>\n",
       "      <td>3.8</td>\n",
       "    </tr>\n",
       "  </tbody>\n",
       "</table>\n",
       "<p>3 rows × 32 columns</p>\n",
       "</div>"
      ],
      "text/plain": [
       "                petal length                                               \\\n",
       "                       count   mean       std  min  25%   50%    75%  max   \n",
       "class                                                                       \n",
       "Iris-setosa             50.0  1.464  0.173511  1.0  1.4  1.50  1.575  1.9   \n",
       "Iris-versicolor         50.0  4.260  0.469911  3.0  4.0  4.35  4.600  5.1   \n",
       "Iris-virginica          50.0  5.552  0.551895  4.5  5.1  5.55  5.875  6.9   \n",
       "\n",
       "                petal width        ...  sepal length      sepal width         \\\n",
       "                      count   mean ...           75%  max       count   mean   \n",
       "class                              ...                                         \n",
       "Iris-setosa            50.0  0.244 ...           5.2  5.8        50.0  3.418   \n",
       "Iris-versicolor        50.0  1.326 ...           6.3  7.0        50.0  2.770   \n",
       "Iris-virginica         50.0  2.026 ...           6.9  7.9        50.0  2.974   \n",
       "\n",
       "                                                        \n",
       "                      std  min    25%  50%    75%  max  \n",
       "class                                                   \n",
       "Iris-setosa      0.381024  2.3  3.125  3.4  3.675  4.4  \n",
       "Iris-versicolor  0.313798  2.0  2.525  2.8  3.000  3.4  \n",
       "Iris-virginica   0.322497  2.2  2.800  3.0  3.175  3.8  \n",
       "\n",
       "[3 rows x 32 columns]"
      ]
     },
     "execution_count": 50,
     "metadata": {},
     "output_type": "execute_result"
    }
   ],
   "source": [
    "# group the data by class, then calculate summary statistics\n",
    "grouped_data = data.groupby('class').describe()\n",
    "grouped_data"
   ]
  },
  {
   "cell_type": "code",
   "execution_count": 52,
   "metadata": {},
   "outputs": [
    {
     "data": {
      "text/html": [
       "<div>\n",
       "<style scoped>\n",
       "    .dataframe tbody tr th:only-of-type {\n",
       "        vertical-align: middle;\n",
       "    }\n",
       "\n",
       "    .dataframe tbody tr th {\n",
       "        vertical-align: top;\n",
       "    }\n",
       "\n",
       "    .dataframe thead th {\n",
       "        text-align: right;\n",
       "    }\n",
       "</style>\n",
       "<table border=\"1\" class=\"dataframe\">\n",
       "  <thead>\n",
       "    <tr style=\"text-align: right;\">\n",
       "      <th></th>\n",
       "      <th>count</th>\n",
       "      <th>mean</th>\n",
       "      <th>std</th>\n",
       "      <th>min</th>\n",
       "      <th>25%</th>\n",
       "      <th>50%</th>\n",
       "      <th>75%</th>\n",
       "      <th>max</th>\n",
       "    </tr>\n",
       "    <tr>\n",
       "      <th>class</th>\n",
       "      <th></th>\n",
       "      <th></th>\n",
       "      <th></th>\n",
       "      <th></th>\n",
       "      <th></th>\n",
       "      <th></th>\n",
       "      <th></th>\n",
       "      <th></th>\n",
       "    </tr>\n",
       "  </thead>\n",
       "  <tbody>\n",
       "    <tr>\n",
       "      <th>Iris-setosa</th>\n",
       "      <td>50.0</td>\n",
       "      <td>1.464</td>\n",
       "      <td>0.173511</td>\n",
       "      <td>1.0</td>\n",
       "      <td>1.4</td>\n",
       "      <td>1.50</td>\n",
       "      <td>1.575</td>\n",
       "      <td>1.9</td>\n",
       "    </tr>\n",
       "    <tr>\n",
       "      <th>Iris-versicolor</th>\n",
       "      <td>50.0</td>\n",
       "      <td>4.260</td>\n",
       "      <td>0.469911</td>\n",
       "      <td>3.0</td>\n",
       "      <td>4.0</td>\n",
       "      <td>4.35</td>\n",
       "      <td>4.600</td>\n",
       "      <td>5.1</td>\n",
       "    </tr>\n",
       "    <tr>\n",
       "      <th>Iris-virginica</th>\n",
       "      <td>50.0</td>\n",
       "      <td>5.552</td>\n",
       "      <td>0.551895</td>\n",
       "      <td>4.5</td>\n",
       "      <td>5.1</td>\n",
       "      <td>5.55</td>\n",
       "      <td>5.875</td>\n",
       "      <td>6.9</td>\n",
       "    </tr>\n",
       "  </tbody>\n",
       "</table>\n",
       "</div>"
      ],
      "text/plain": [
       "                 count   mean       std  min  25%   50%    75%  max\n",
       "class                                                              \n",
       "Iris-setosa       50.0  1.464  0.173511  1.0  1.4  1.50  1.575  1.9\n",
       "Iris-versicolor   50.0  4.260  0.469911  3.0  4.0  4.35  4.600  5.1\n",
       "Iris-virginica    50.0  5.552  0.551895  4.5  5.1  5.55  5.875  6.9"
      ]
     },
     "execution_count": 52,
     "metadata": {},
     "output_type": "execute_result"
    }
   ],
   "source": [
    "# get just the stats for petal length, by class\n",
    "petal_length_grouped = grouped_data['petal length']\n",
    "petal_length_grouped"
   ]
  },
  {
   "cell_type": "code",
   "execution_count": 53,
   "metadata": {
    "scrolled": true
   },
   "outputs": [
    {
     "data": {
      "text/html": [
       "<div>\n",
       "<style scoped>\n",
       "    .dataframe tbody tr th:only-of-type {\n",
       "        vertical-align: middle;\n",
       "    }\n",
       "\n",
       "    .dataframe tbody tr th {\n",
       "        vertical-align: top;\n",
       "    }\n",
       "\n",
       "    .dataframe thead th {\n",
       "        text-align: right;\n",
       "    }\n",
       "</style>\n",
       "<table border=\"1\" class=\"dataframe\">\n",
       "  <thead>\n",
       "    <tr style=\"text-align: right;\">\n",
       "      <th></th>\n",
       "      <th>mean</th>\n",
       "      <th>std</th>\n",
       "    </tr>\n",
       "    <tr>\n",
       "      <th>class</th>\n",
       "      <th></th>\n",
       "      <th></th>\n",
       "    </tr>\n",
       "  </thead>\n",
       "  <tbody>\n",
       "    <tr>\n",
       "      <th>Iris-setosa</th>\n",
       "      <td>1.464</td>\n",
       "      <td>0.173511</td>\n",
       "    </tr>\n",
       "    <tr>\n",
       "      <th>Iris-versicolor</th>\n",
       "      <td>4.260</td>\n",
       "      <td>0.469911</td>\n",
       "    </tr>\n",
       "    <tr>\n",
       "      <th>Iris-virginica</th>\n",
       "      <td>5.552</td>\n",
       "      <td>0.551895</td>\n",
       "    </tr>\n",
       "  </tbody>\n",
       "</table>\n",
       "</div>"
      ],
      "text/plain": [
       "                  mean       std\n",
       "class                           \n",
       "Iris-setosa      1.464  0.173511\n",
       "Iris-versicolor  4.260  0.469911\n",
       "Iris-virginica   5.552  0.551895"
      ]
     },
     "execution_count": 53,
     "metadata": {},
     "output_type": "execute_result"
    }
   ],
   "source": [
    "# get just the mean and std for petal length, by class\n",
    "petal_length_grouped.loc[:,['mean', 'std']]"
   ]
  },
  {
   "cell_type": "code",
   "execution_count": 14,
   "metadata": {
    "scrolled": true
   },
   "outputs": [
    {
     "data": {
      "text/html": [
       "<div>\n",
       "<style scoped>\n",
       "    .dataframe tbody tr th:only-of-type {\n",
       "        vertical-align: middle;\n",
       "    }\n",
       "\n",
       "    .dataframe tbody tr th {\n",
       "        vertical-align: top;\n",
       "    }\n",
       "\n",
       "    .dataframe thead th {\n",
       "        text-align: right;\n",
       "    }\n",
       "</style>\n",
       "<table border=\"1\" class=\"dataframe\">\n",
       "  <thead>\n",
       "    <tr style=\"text-align: right;\">\n",
       "      <th></th>\n",
       "      <th>sepal length</th>\n",
       "      <th>sepal width</th>\n",
       "      <th>petal length</th>\n",
       "      <th>petal width</th>\n",
       "    </tr>\n",
       "  </thead>\n",
       "  <tbody>\n",
       "    <tr>\n",
       "      <th>sepal length</th>\n",
       "      <td>1.000000</td>\n",
       "      <td>-0.109369</td>\n",
       "      <td>0.871754</td>\n",
       "      <td>0.817954</td>\n",
       "    </tr>\n",
       "    <tr>\n",
       "      <th>sepal width</th>\n",
       "      <td>-0.109369</td>\n",
       "      <td>1.000000</td>\n",
       "      <td>-0.420516</td>\n",
       "      <td>-0.356544</td>\n",
       "    </tr>\n",
       "    <tr>\n",
       "      <th>petal length</th>\n",
       "      <td>0.871754</td>\n",
       "      <td>-0.420516</td>\n",
       "      <td>1.000000</td>\n",
       "      <td>0.962757</td>\n",
       "    </tr>\n",
       "    <tr>\n",
       "      <th>petal width</th>\n",
       "      <td>0.817954</td>\n",
       "      <td>-0.356544</td>\n",
       "      <td>0.962757</td>\n",
       "      <td>1.000000</td>\n",
       "    </tr>\n",
       "  </tbody>\n",
       "</table>\n",
       "</div>"
      ],
      "text/plain": [
       "              sepal length  sepal width  petal length  petal width\n",
       "sepal length      1.000000    -0.109369      0.871754     0.817954\n",
       "sepal width      -0.109369     1.000000     -0.420516    -0.356544\n",
       "petal length      0.871754    -0.420516      1.000000     0.962757\n",
       "petal width       0.817954    -0.356544      0.962757     1.000000"
      ]
     },
     "execution_count": 14,
     "metadata": {},
     "output_type": "execute_result"
    }
   ],
   "source": [
    "# compute a correlation between every pair of attributes\n",
    "data.corr()"
   ]
  },
  {
   "cell_type": "markdown",
   "metadata": {},
   "source": [
    "### 1.4 Arithmetic Operations"
   ]
  },
  {
   "cell_type": "code",
   "execution_count": 45,
   "metadata": {},
   "outputs": [
    {
     "name": "stdout",
     "output_type": "stream",
     "text": [
      "(5, 4)\n"
     ]
    },
    {
     "data": {
      "text/html": [
       "<div>\n",
       "<style scoped>\n",
       "    .dataframe tbody tr th:only-of-type {\n",
       "        vertical-align: middle;\n",
       "    }\n",
       "\n",
       "    .dataframe tbody tr th {\n",
       "        vertical-align: top;\n",
       "    }\n",
       "\n",
       "    .dataframe thead th {\n",
       "        text-align: right;\n",
       "    }\n",
       "</style>\n",
       "<table border=\"1\" class=\"dataframe\">\n",
       "  <thead>\n",
       "    <tr style=\"text-align: right;\">\n",
       "      <th></th>\n",
       "      <th>sepal length</th>\n",
       "      <th>sepal width</th>\n",
       "      <th>petal length</th>\n",
       "      <th>petal width</th>\n",
       "    </tr>\n",
       "  </thead>\n",
       "  <tbody>\n",
       "    <tr>\n",
       "      <th>0</th>\n",
       "      <td>5.1</td>\n",
       "      <td>3.5</td>\n",
       "      <td>1.4</td>\n",
       "      <td>0.2</td>\n",
       "    </tr>\n",
       "    <tr>\n",
       "      <th>1</th>\n",
       "      <td>4.9</td>\n",
       "      <td>3.0</td>\n",
       "      <td>1.4</td>\n",
       "      <td>0.2</td>\n",
       "    </tr>\n",
       "    <tr>\n",
       "      <th>2</th>\n",
       "      <td>4.7</td>\n",
       "      <td>3.2</td>\n",
       "      <td>1.3</td>\n",
       "      <td>0.2</td>\n",
       "    </tr>\n",
       "    <tr>\n",
       "      <th>3</th>\n",
       "      <td>4.6</td>\n",
       "      <td>3.1</td>\n",
       "      <td>1.5</td>\n",
       "      <td>0.2</td>\n",
       "    </tr>\n",
       "    <tr>\n",
       "      <th>4</th>\n",
       "      <td>5.0</td>\n",
       "      <td>3.6</td>\n",
       "      <td>1.4</td>\n",
       "      <td>0.2</td>\n",
       "    </tr>\n",
       "  </tbody>\n",
       "</table>\n",
       "</div>"
      ],
      "text/plain": [
       "   sepal length  sepal width  petal length  petal width\n",
       "0           5.1          3.5           1.4          0.2\n",
       "1           4.9          3.0           1.4          0.2\n",
       "2           4.7          3.2           1.3          0.2\n",
       "3           4.6          3.1           1.5          0.2\n",
       "4           5.0          3.6           1.4          0.2"
      ]
     },
     "execution_count": 45,
     "metadata": {},
     "output_type": "execute_result"
    }
   ],
   "source": [
    "# many arithmetic operations only work on all numerical data, \n",
    "# so let's remove the last column, which is categorical\n",
    "data_sample = data.head() # take a subset of the data - first 5 rows\n",
    "del data_sample['class']  # remove the last column\n",
    "print(data_sample.shape)  # check the shape of the data sample\n",
    "data_sample"
   ]
  },
  {
   "cell_type": "code",
   "execution_count": 16,
   "metadata": {},
   "outputs": [
    {
     "name": "stdout",
     "output_type": "stream",
     "text": [
      "   sepal length  sepal width  petal length  petal width\n",
      "0           9.1          7.5           5.4          4.2\n",
      "1           8.9          7.0           5.4          4.2\n",
      "2           8.7          7.2           5.3          4.2\n",
      "3           8.6          7.1           5.5          4.2\n",
      "4           9.0          7.6           5.4          4.2\n",
      "   sepal length  sepal width  petal length  petal width\n",
      "0          20.4         14.0           5.6          0.8\n",
      "1          19.6         12.0           5.6          0.8\n",
      "2          18.8         12.8           5.2          0.8\n",
      "3          18.4         12.4           6.0          0.8\n",
      "4          20.0         14.4           5.6          0.8\n",
      "   sepal length  sepal width  petal length  petal width\n",
      "0      676.5201     150.0625        3.8416       0.0016\n",
      "1      576.4801      81.0000        3.8416       0.0016\n",
      "2      487.9681     104.8576        2.8561       0.0016\n",
      "3      447.7456      92.3521        5.0625       0.0016\n",
      "4      625.0000     167.9616        3.8416       0.0016\n",
      "   sepal length  sepal width  petal length  petal width\n",
      "0           5.1          3.5           1.4          0.2\n",
      "1           4.9          3.0           1.4          0.2\n",
      "2           4.7          3.2           1.3          0.2\n",
      "3           4.6          3.1           1.5          0.2\n",
      "4           5.0          3.6           1.4          0.2\n",
      "                0    1    2    3    4\n",
      "sepal length  5.1  4.9  4.7  4.6  5.0\n",
      "sepal width   3.5  3.0  3.2  3.1  3.6\n",
      "petal length  1.4  1.4  1.3  1.5  1.4\n",
      "petal width   0.2  0.2  0.2  0.2  0.2\n"
     ]
    }
   ],
   "source": [
    "# arithmetic operations\n",
    "print(data_sample + 4)\n",
    "print(data_sample * 4)\n",
    "print(data_sample ** 4)\n",
    "print(data_sample.abs())    # get the absolute value for each element\n",
    "print(data_sample.T)    # transpose operation"
   ]
  },
  {
   "cell_type": "code",
   "execution_count": 17,
   "metadata": {},
   "outputs": [
    {
     "name": "stdout",
     "output_type": "stream",
     "text": [
      "   sepal length  sepal width  petal length  petal width\n",
      "0           5.1          7.0           4.2          0.8\n",
      "1          24.5         18.0           9.8          1.6\n",
      "2          42.3         32.0          14.3          2.4\n",
      "3          59.8         43.4          22.5          3.2\n",
      "4          85.0         64.8          26.6          4.0\n"
     ]
    }
   ],
   "source": [
    "# arithmetic with two dataframes\n",
    "\n",
    "# create a new dataframe\n",
    "column_names= ['sepal length', 'sepal width', 'petal length', 'petal width']\n",
    "data_set_2 = pd.DataFrame([[1,2,3,4],\n",
    "                         [5,6,7,8],\n",
    "                         [9,10,11,12],\n",
    "                         [13,14,15,16],\n",
    "                         [17,18,19,20]], columns=column_names)\n",
    "\n",
    "# add two dataframes together\n",
    "print(data_sample * data_set_2)"
   ]
  },
  {
   "cell_type": "code",
   "execution_count": 18,
   "metadata": {},
   "outputs": [
    {
     "name": "stdout",
     "output_type": "stream",
     "text": [
      "0    9.1\n",
      "1    8.9\n",
      "2    8.7\n",
      "3    8.6\n",
      "4    9.0\n",
      "Name: sepal length, dtype: float64\n"
     ]
    }
   ],
   "source": [
    "# can do arithmetic on a single column\n",
    "print(data_sample['sepal length'] + 4)"
   ]
  },
  {
   "cell_type": "code",
   "execution_count": 46,
   "metadata": {},
   "outputs": [
    {
     "name": "stdout",
     "output_type": "stream",
     "text": [
      "\n",
      "Max value for petal length: 6.9\n",
      "\n",
      "Maximum value per col:\n",
      "sepal length    7.9\n",
      "sepal width     4.4\n",
      "petal length    6.9\n",
      "petal width     2.5\n",
      "dtype: float64\n"
     ]
    }
   ],
   "source": [
    "# maximum value for a column\n",
    "print('\\nMax value for petal length:', data['petal length'].max())  \n",
    " \n",
    "# get maximum value for each column\n",
    "# can only do this if all columns are numeric\n",
    "data_numeric = data.copy()\n",
    "del data_numeric['class']\n",
    "print('\\nMaximum value per col:')\n",
    "print(data_numeric.max())\n",
    "#print(data.head())"
   ]
  },
  {
   "cell_type": "code",
   "execution_count": 20,
   "metadata": {},
   "outputs": [
    {
     "name": "stdout",
     "output_type": "stream",
     "text": [
      "\n",
      "Minimum value per row:\n",
      "0      0.2\n",
      "1      0.2\n",
      "2      0.2\n",
      "3      0.2\n",
      "4      0.2\n",
      "5      0.4\n",
      "6      0.3\n",
      "7      0.2\n",
      "8      0.2\n",
      "9      0.1\n",
      "10     0.2\n",
      "11     0.2\n",
      "12     0.1\n",
      "13     0.1\n",
      "14     0.2\n",
      "15     0.4\n",
      "16     0.4\n",
      "17     0.3\n",
      "18     0.3\n",
      "19     0.3\n",
      "20     0.2\n",
      "21     0.4\n",
      "22     0.2\n",
      "23     0.5\n",
      "24     0.2\n",
      "25     0.2\n",
      "26     0.4\n",
      "27     0.2\n",
      "28     0.2\n",
      "29     0.2\n",
      "      ... \n",
      "120    2.3\n",
      "121    2.0\n",
      "122    2.0\n",
      "123    1.8\n",
      "124    2.1\n",
      "125    1.8\n",
      "126    1.8\n",
      "127    1.8\n",
      "128    2.1\n",
      "129    1.6\n",
      "130    1.9\n",
      "131    2.0\n",
      "132    2.2\n",
      "133    1.5\n",
      "134    1.4\n",
      "135    2.3\n",
      "136    2.4\n",
      "137    1.8\n",
      "138    1.8\n",
      "139    2.1\n",
      "140    2.4\n",
      "141    2.3\n",
      "142    1.9\n",
      "143    2.3\n",
      "144    2.5\n",
      "145    2.3\n",
      "146    1.9\n",
      "147    2.0\n",
      "148    2.3\n",
      "149    1.8\n",
      "Length: 150, dtype: float64\n",
      "\n",
      "Sum of values per column:\n",
      "sepal length                                                876.5\n",
      "sepal width                                                 458.1\n",
      "petal length                                                563.8\n",
      "petal width                                                 179.8\n",
      "class           Iris-setosaIris-setosaIris-setosaIris-setosaIr...\n",
      "dtype: object\n",
      "\n",
      "Average value per row:\n",
      "0      2.550\n",
      "1      2.375\n",
      "2      2.350\n",
      "3      2.350\n",
      "4      2.550\n",
      "5      2.850\n",
      "6      2.425\n",
      "7      2.525\n",
      "8      2.225\n",
      "9      2.400\n",
      "10     2.700\n",
      "11     2.500\n",
      "12     2.325\n",
      "13     2.125\n",
      "14     2.800\n",
      "15     3.000\n",
      "16     2.750\n",
      "17     2.575\n",
      "18     2.875\n",
      "19     2.675\n",
      "20     2.675\n",
      "21     2.675\n",
      "22     2.350\n",
      "23     2.650\n",
      "24     2.575\n",
      "25     2.450\n",
      "26     2.600\n",
      "27     2.600\n",
      "28     2.550\n",
      "29     2.425\n",
      "       ...  \n",
      "120    4.525\n",
      "121    3.825\n",
      "122    4.800\n",
      "123    3.925\n",
      "124    4.450\n",
      "125    4.550\n",
      "126    3.900\n",
      "127    3.950\n",
      "128    4.225\n",
      "129    4.400\n",
      "130    4.550\n",
      "131    5.025\n",
      "132    4.250\n",
      "133    3.925\n",
      "134    3.925\n",
      "135    4.775\n",
      "136    4.425\n",
      "137    4.200\n",
      "138    3.900\n",
      "139    4.375\n",
      "140    4.450\n",
      "141    4.350\n",
      "142    3.875\n",
      "143    4.550\n",
      "144    4.550\n",
      "145    4.300\n",
      "146    3.925\n",
      "147    4.175\n",
      "148    4.325\n",
      "149    3.950\n",
      "Length: 150, dtype: float64\n",
      "\n",
      "Calculate max - min per column:\n",
      "sepal length    3.6\n",
      "sepal width     2.4\n",
      "petal length    5.9\n",
      "petal width     2.4\n",
      "dtype: float64\n",
      "\n",
      "Calculate max - min per row:\n",
      "0      4.9\n",
      "1      4.7\n",
      "2      4.5\n",
      "3      4.4\n",
      "4      4.8\n",
      "5      5.0\n",
      "6      4.3\n",
      "7      4.8\n",
      "8      4.2\n",
      "9      4.8\n",
      "10     5.2\n",
      "11     4.6\n",
      "12     4.7\n",
      "13     4.2\n",
      "14     5.6\n",
      "15     5.3\n",
      "16     5.0\n",
      "17     4.8\n",
      "18     5.4\n",
      "19     4.8\n",
      "20     5.2\n",
      "21     4.7\n",
      "22     4.4\n",
      "23     4.6\n",
      "24     4.6\n",
      "25     4.8\n",
      "26     4.6\n",
      "27     5.0\n",
      "28     5.0\n",
      "29     4.5\n",
      "      ... \n",
      "120    4.6\n",
      "121    3.6\n",
      "122    5.7\n",
      "123    4.5\n",
      "124    4.6\n",
      "125    5.4\n",
      "126    4.4\n",
      "127    4.3\n",
      "128    4.3\n",
      "129    5.6\n",
      "130    5.5\n",
      "131    5.9\n",
      "132    4.2\n",
      "133    4.8\n",
      "134    4.7\n",
      "135    5.4\n",
      "136    3.9\n",
      "137    4.6\n",
      "138    4.2\n",
      "139    4.8\n",
      "140    4.3\n",
      "141    4.6\n",
      "142    3.9\n",
      "143    4.5\n",
      "144    4.2\n",
      "145    4.4\n",
      "146    4.4\n",
      "147    4.5\n",
      "148    3.9\n",
      "149    4.1\n",
      "Length: 150, dtype: float64\n"
     ]
    }
   ],
   "source": [
    "# get minimum value for each row\n",
    "print('\\nMinimum value per row:')\n",
    "print(data.min(axis=1))    \n",
    "\n",
    "# get sum of values for each column\n",
    "print('\\nSum of values per column:')\n",
    "print(data.sum())    \n",
    "\n",
    "# get average value for each row\n",
    "print('\\nAverage value per row:')\n",
    "print(data.mean(axis=1))    \n",
    "\n",
    "# range\n",
    "print('\\nCalculate max - min per column:')\n",
    "f = lambda x: x.max() - x.min()\n",
    "print(data_numeric.apply(f))\n",
    "\n",
    "print('\\nCalculate max - min per row:')\n",
    "f = lambda x: x.max() - x.min()\n",
    "print(data_numeric.apply(f, axis=1))"
   ]
  },
  {
   "cell_type": "code",
   "execution_count": 47,
   "metadata": {},
   "outputs": [
    {
     "name": "stdout",
     "output_type": "stream",
     "text": [
      "sepal length:\n",
      "\t Mean = 5.84\n",
      "\t Standard deviation = 0.83\n",
      "\t Minimum = 4.30\n",
      "\t Maximum = 7.90\n",
      "sepal width:\n",
      "\t Mean = 3.05\n",
      "\t Standard deviation = 0.43\n",
      "\t Minimum = 2.00\n",
      "\t Maximum = 4.40\n",
      "petal length:\n",
      "\t Mean = 3.76\n",
      "\t Standard deviation = 1.76\n",
      "\t Minimum = 1.00\n",
      "\t Maximum = 6.90\n",
      "petal width:\n",
      "\t Mean = 1.20\n",
      "\t Standard deviation = 0.76\n",
      "\t Minimum = 0.10\n",
      "\t Maximum = 2.50\n"
     ]
    }
   ],
   "source": [
    "from pandas.api.types import is_numeric_dtype\n",
    "\n",
    "# looping over each column\n",
    "for col in data.columns:\n",
    "    if is_numeric_dtype(data[col]):\n",
    "        print('%s:' % (col))\n",
    "        print('\\t Mean = %.2f' % data[col].mean())\n",
    "        print('\\t Standard deviation = %.2f' % data[col].std())\n",
    "        print('\\t Minimum = %.2f' % data[col].min())\n",
    "        print('\\t Maximum = %.2f' % data[col].max())"
   ]
  },
  {
   "cell_type": "markdown",
   "metadata": {},
   "source": [
    "## 2. Plotting Data\n",
    "\n",
    "### 2.1 Built-in plotting for Series and DataFrames\n",
    "\n",
    "There are built-in functions you can use to plot the data stored in a Series or a DataFrame."
   ]
  },
  {
   "cell_type": "code",
   "execution_count": 21,
   "metadata": {
    "scrolled": true
   },
   "outputs": [
    {
     "data": {
      "text/plain": [
       "<matplotlib.axes._subplots.AxesSubplot at 0x10aaf8da0>"
      ]
     },
     "execution_count": 21,
     "metadata": {},
     "output_type": "execute_result"
    },
    {
     "data": {
      "image/png": "[encoded data removed]",
      "text/plain": [
       "<Figure size 432x288 with 1 Axes>"
      ]
     },
     "metadata": {},
     "output_type": "display_data"
    }
   ],
   "source": [
    "# show a boxplot of each numerical feature\n",
    "data.boxplot()"
   ]
  },
  {
   "cell_type": "code",
   "execution_count": 22,
   "metadata": {
    "scrolled": true
   },
   "outputs": [
    {
     "data": {
      "text/plain": [
       "<matplotlib.axes._subplots.AxesSubplot at 0x116284048>"
      ]
     },
     "execution_count": 22,
     "metadata": {},
     "output_type": "execute_result"
    },
    {
     "data": {
      "image/png": "[encoded data removed]",
      "text/plain": [
       "<Figure size 432x288 with 1 Axes>"
      ]
     },
     "metadata": {},
     "output_type": "display_data"
    }
   ],
   "source": [
    "# create a line plot for one feature\n",
    "petal_len = data['petal length']\n",
    "petal_len.plot(kind='line', title='Line plot')"
   ]
  },
  {
   "cell_type": "code",
   "execution_count": 23,
   "metadata": {},
   "outputs": [
    {
     "data": {
      "text/plain": [
       "<matplotlib.axes._subplots.AxesSubplot at 0x1163637b8>"
      ]
     },
     "execution_count": 23,
     "metadata": {},
     "output_type": "execute_result"
    },
    {
     "data": {
      "image/png": "[encoded data removed]",
      "text/plain": [
       "<Figure size 432x288 with 1 Axes>"
      ]
     },
     "metadata": {},
     "output_type": "display_data"
    }
   ],
   "source": [
    "# create a line plot for all numeric features\n",
    "data.plot()"
   ]
  },
  {
   "cell_type": "code",
   "execution_count": 24,
   "metadata": {},
   "outputs": [
    {
     "data": {
      "text/plain": [
       "<matplotlib.axes._subplots.AxesSubplot at 0x1164486a0>"
      ]
     },
     "execution_count": 24,
     "metadata": {},
     "output_type": "execute_result"
    },
    {
     "data": {
      "image/png": "[encoded data removed]",
      "text/plain": [
       "<Figure size 432x288 with 1 Axes>"
      ]
     },
     "metadata": {},
     "output_type": "display_data"
    }
   ],
   "source": [
    "# create a scatter plot of 2 features\n",
    "data.plot.scatter(x='petal length', y='petal width')"
   ]
  },
  {
   "cell_type": "code",
   "execution_count": 25,
   "metadata": {},
   "outputs": [
    {
     "data": {
      "text/plain": [
       "<matplotlib.axes._subplots.AxesSubplot at 0x1164f4eb8>"
      ]
     },
     "execution_count": 25,
     "metadata": {},
     "output_type": "execute_result"
    },
    {
     "data": {
      "image/png": "[encoded data removed]",
      "text/plain": [
       "<Figure size 432x288 with 1 Axes>"
      ]
     },
     "metadata": {},
     "output_type": "display_data"
    }
   ],
   "source": [
    "# show a histogram of one feature\n",
    "petal_len.plot(kind='hist', title = 'Histogram')"
   ]
  },
  {
   "cell_type": "code",
   "execution_count": 26,
   "metadata": {},
   "outputs": [
    {
     "name": "stdout",
     "output_type": "stream",
     "text": [
      "class\n",
      "Iris-setosa        50\n",
      "Iris-versicolor    50\n",
      "Iris-virginica     50\n",
      "dtype: int64\n"
     ]
    },
    {
     "data": {
      "text/plain": [
       "<matplotlib.axes._subplots.AxesSubplot at 0x1165de748>"
      ]
     },
     "execution_count": 26,
     "metadata": {},
     "output_type": "execute_result"
    },
    {
     "data": {
      "image/png": "[encoded data removed]",
      "text/plain": [
       "<Figure size 432x288 with 1 Axes>"
      ]
     },
     "metadata": {},
     "output_type": "display_data"
    }
   ],
   "source": [
    "# create a pie chart\n",
    "groups = data.groupby('class')\n",
    "print(groups.size()) # groups.size() is a Series object\n",
    "groups.size().plot.pie()"
   ]
  },
  {
   "cell_type": "markdown",
   "metadata": {},
   "source": [
    "### 2.2 Using Matplotlib\n",
    "Sometimes the built-in dataframe plotting methods are not customizeable enough for what you are tyring to show. The matplotlib package can be used to create more interesting plots.\n",
    "The matplotlib documentation is [here](https://matplotlib.org/api/axes_api.html#matplotlib.axes.Axes)."
   ]
  },
  {
   "cell_type": "markdown",
   "metadata": {},
   "source": [
    "Let's plot the petal length vs the petal width of each data point and color each point according to its class label."
   ]
  },
  {
   "cell_type": "code",
   "execution_count": 30,
   "metadata": {
    "scrolled": true
   },
   "outputs": [
    {
     "data": {
      "image/png": "[encoded data removed]",
      "text/plain": [
       "<Figure size 432x288 with 1 Axes>"
      ]
     },
     "metadata": {},
     "output_type": "display_data"
    }
   ],
   "source": [
    "# separate the data by class labels\n",
    "versicolor = data[data['class'] == 'Iris-versicolor']\n",
    "virginica = data[data['class'] == 'Iris-virginica']\n",
    "setosa = data[data['class'] == 'Iris-setosa']\n",
    "\n",
    "# plot the versicolors in blue\n",
    "plt.scatter(versicolor['petal length'], \n",
    "           versicolor['petal width'], \n",
    "           c='blue', marker = 'x')\n",
    "\n",
    "# plot the virginicas in green\n",
    "plt.scatter(virginica['petal length'], \n",
    "           virginica['petal width'], \n",
    "           c='green', marker = 'x')\n",
    "\n",
    "# plot the setosas in red\n",
    "plt.scatter(setosa['petal length'], \n",
    "           setosa['petal width'], \n",
    "           c='red', marker = 'x')\n",
    "\n",
    "plt.xlabel('Petal Length')\n",
    "plt.ylabel('Petal Width')\n",
    "plt.title(\"Iris Data\")\n",
    "plt.show()"
   ]
  },
  {
   "cell_type": "markdown",
   "metadata": {},
   "source": [
    "As an alternative to adding 3 separate data sets to the same plot, you could use a lambda function for setting the color by class label."
   ]
  },
  {
   "cell_type": "code",
   "execution_count": 31,
   "metadata": {},
   "outputs": [
    {
     "data": {
      "image/png": "[encoded data removed]",
      "text/plain": [
       "<Figure size 432x288 with 1 Axes>"
      ]
     },
     "metadata": {},
     "output_type": "display_data"
    }
   ],
   "source": [
    "# plot petal length vs petal width, color data points by their class\n",
    "colors = {'Iris-setosa':'red', 'Iris-versicolor':'blue', 'Iris-virginica':'green'}\n",
    "plt.scatter(data['petal length'], \n",
    "           data['petal width'], \n",
    "           c=data['class'].apply(lambda x: colors[x]),\n",
    "           marker = 'x')\n",
    "plt.xlabel('Petal Length')\n",
    "plt.ylabel('Petal Width')\n",
    "plt.title(\"Iris Data\")\n",
    "plt.show()"
   ]
  },
  {
   "cell_type": "markdown",
   "metadata": {},
   "source": [
    "What can we tell about the 3 iris types by looking at this plot? We can see that the setosas have much smaller petal length & petal width than the other 2 types. The versicolors are in the middle in terms of petal length & width, and the virginicas have the largest petal lengths & widths. The versicolors and virginicas are more similar in size than the setosas. "
   ]
  },
  {
   "cell_type": "markdown",
   "metadata": {},
   "source": [
    "### 2.3 Scatter plot matrix\n",
    "Matplotlib can create a quick scatter plot matrix to compare all of the numeric attributes against each other. You can quickly look for correlations between attributes this way. \n",
    "\n",
    "Down the diagonal is a histogram of each attribute."
   ]
  },
  {
   "cell_type": "code",
   "execution_count": 29,
   "metadata": {},
   "outputs": [
    {
     "data": {
      "image/png": "[encoded data removed]",
      "text/plain": [
       "<Figure size 1080x1080 with 16 Axes>"
      ]
     },
     "metadata": {},
     "output_type": "display_data"
    }
   ],
   "source": [
    "# scatter plot matrix\n",
    "pd.plotting.scatter_matrix(data, figsize=(15,15))\n",
    "plt.show()"
   ]
  },
  {
   "cell_type": "code",
   "execution_count": null,
   "metadata": {},
   "outputs": [],
   "source": []
  }
 ],
 "metadata": {
  "kernelspec": {
   "display_name": "Python 3 (ipykernel)",
   "language": "python",
   "name": "python3"
  },
  "language_info": {
   "codemirror_mode": {
    "name": "ipython",
    "version": 3
   },
   "file_extension": ".py",
   "mimetype": "text/x-python",
   "name": "python",
   "nbconvert_exporter": "python",
   "pygments_lexer": "ipython3",
   "version": "3.11.1"
  }
 },
 "nbformat": 4,
 "nbformat_minor": 2
}
